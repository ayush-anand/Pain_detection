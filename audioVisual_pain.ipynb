{
  "nbformat": 4,
  "nbformat_minor": 0,
  "metadata": {
    "colab": {
      "name": "audioVisual_pain.ipynb",
      "provenance": [],
      "collapsed_sections": []
    },
    "kernelspec": {
      "name": "python3",
      "display_name": "Python 3"
    },
    "language_info": {
      "name": "python"
    }
  },
  "cells": [
    {
      "cell_type": "markdown",
      "source": [
        "#start"
      ],
      "metadata": {
        "id": "wnTxppCA4Imj"
      }
    },
    {
      "cell_type": "code",
      "execution_count": 10,
      "metadata": {
        "colab": {
          "base_uri": "https://localhost:8080/"
        },
        "id": "dzv_nG8qMJwH",
        "outputId": "ff039657-a7b6-49a8-c4e7-9f827519dff1"
      },
      "outputs": [
        {
          "output_type": "stream",
          "name": "stdout",
          "text": [
            "Drive already mounted at /content/drive; to attempt to forcibly remount, call drive.mount(\"/content/drive\", force_remount=True).\n"
          ]
        }
      ],
      "source": [
        "from google.colab import drive\n",
        "drive.mount('/content/drive')"
      ]
    },
    {
      "cell_type": "code",
      "source": [
        "pip install einops"
      ],
      "metadata": {
        "colab": {
          "base_uri": "https://localhost:8080/"
        },
        "id": "kly8sAm4W9CN",
        "outputId": "86cd6890-5d4c-48e2-8527-a28602908164"
      },
      "execution_count": null,
      "outputs": [
        {
          "output_type": "stream",
          "name": "stdout",
          "text": [
            "Requirement already satisfied: einops in /usr/local/lib/python3.7/dist-packages (0.3.2)\n"
          ]
        }
      ]
    },
    {
      "cell_type": "markdown",
      "source": [
        "#feature extract"
      ],
      "metadata": {
        "id": "UQGTQxcRxPtS"
      }
    },
    {
      "cell_type": "code",
      "source": [
        "import torch\n",
        "import cv2\n",
        "import numpy as np\n",
        "import os\n",
        "import math\n",
        "import torch.optim as optim\n",
        "import moviepy.editor as mp\n",
        "import scipy.io\n",
        "from scipy.io import wavfile\n",
        "import matplotlib.pyplot as plt\n",
        "import numpy as np\n",
        "import os\n",
        "import cv2\n",
        "def audiospectogram(pathname):\n",
        "  clip = mp.VideoFileClip(pathname)\n",
        "  print(pathname[:-4])\n",
        "  # Insert Local Audio File Path\n",
        "  audiopath = \"/content/drive/MyDrive/dataset/temp.wav\"\n",
        "  \n",
        "  clip.audio.write_audiofile(audiopath)\n",
        "  sr,x = scipy.io.wavfile.read(audiopath)\n",
        "\n",
        "  ## Parameters: 10ms step, 30ms window\n",
        "  nstep = int(sr * 0.01)\n",
        "  nwin  = int(sr * 0.01)\n",
        "  nfft = nwin\n",
        "\n",
        "  window = np.hamming(nwin)\n",
        "\n",
        "  ## will take windows x[n1:n2].  generate\n",
        "  ## and loop over n2 such that all frames\n",
        "  ## fit within the waveform\n",
        "  nn = range(nwin, len(x), nstep)\n",
        "\n",
        "  X = np.zeros( (len(nn), nfft//2) )\n",
        "\n",
        "  for i,n in enumerate(nn):\n",
        "      xseg = x[n-nwin:n]\n",
        "      z = np.fft.fft(window @ xseg, nfft)\n",
        "      X[i,:] = np.log(np.abs(z[:nfft//2]))\n",
        "\n",
        "\n",
        "  ab = cv2.resize(X,(224,X.shape[0]))\n",
        "\n",
        "  valframe =  ab.shape[0]//224 #number of frames of sound\n",
        "  dim1 = (valframe)*224\n",
        "  # print(dim1, val, ab.shape[0])\n",
        "  Y = (ab[:dim1,0:224].T).reshape(valframe,1,224,224)\n",
        "  os.remove(audiopath)\n",
        "  Y = np.asarray(Y)\n",
        "  return Y\n",
        "def audioextract(path,start,end):\n",
        "  # audios = np.asarray(audios)\n",
        "  audios = []\n",
        "  labels = []\n",
        "  count =0  \n",
        "  for filename in os.listdir(path):\n",
        "    if count>= start and count <end:\n",
        "      # break\n",
        "      specframe = audiospectogram(path + filename)\n",
        "      audios.append(specframe)\n",
        "      if filename[5:9] == 'Pain':\n",
        "        labels.append([1,0])\n",
        "      else:\n",
        "        labels.append([0,1])\n",
        "      \n",
        "    elif count>=end:\n",
        "      break\n",
        "    count+=1\n",
        "  audio = torch.tensor(np.asarray(audios)).float()\n",
        "  print(audio.shape)\n",
        "  del audios\n",
        "  return audio,labels\n"
      ],
      "metadata": {
        "id": "sMGd9zO7W8y0"
      },
      "execution_count": 2,
      "outputs": []
    },
    {
      "cell_type": "code",
      "source": [
        "FRAMES_INTERVAL = 10\n",
        "def vidextract(DATA_DIR, start, end):\n",
        "  preview = []\n",
        "  videos = []\n",
        "  audios = []\n",
        "  labels = []\n",
        "  # GET MIN VIDEO FRAME PER VIDEO: Videos may have different shapes\n",
        "  min_video_frames = math.inf \n",
        "\n",
        "  for video_file_name in os.listdir(DATA_DIR):\n",
        "    # emoname = video_file_name[:2]\n",
        "    # if emoname in emotoval:\n",
        "    vidcap  = cv2.VideoCapture(DATA_DIR + video_file_name)\n",
        "    length = int(vidcap.get(cv2.CAP_PROP_FRAME_COUNT))\n",
        "    # print(length)\n",
        "    if length < min_video_frames:\n",
        "      min_video_frames = length\n",
        "  print(min_video_frames)\n",
        "  count = 0\n",
        "  # EXTRACT SOME FRAMES FROM VIDEOS\n",
        "  for video_file_name in os.listdir(DATA_DIR):\n",
        "    if count>= start and count <end:\n",
        "      \n",
        "      print(\"Loading \" + video_file_name + \"...\")\n",
        "      # label1 = [0 for i in range(lenemo)]\n",
        "      print(video_file_name[5:9])\n",
        "      painname = video_file_name[:2]\n",
        "      if video_file_name[5:9] == 'Pain':\n",
        "        labels.append([1,0])\n",
        "      else:\n",
        "        labels.append([0,1])\n",
        "\n",
        "\n",
        "      vidcap  = cv2.VideoCapture(DATA_DIR + video_file_name)\n",
        "      success, image = vidcap.read()\n",
        "      considered_frames_counter = 0\n",
        "      frames = []\n",
        "      while success:    \n",
        "\n",
        "        if considered_frames_counter == int(min_video_frames / 10) - 1:\n",
        "          break\n",
        "\n",
        "        success,image = vidcap.read()\n",
        "        if considered_frames_counter == FRAMES_INTERVAL:\n",
        "          preview.append((video_file_name, cv2.resize(image, (224,224))))\n",
        "        if success and considered_frames_counter % FRAMES_INTERVAL == 0:\n",
        "          # print(considered_frames_counter,'hi')\n",
        "          image = np.transpose(np.asarray(cv2.resize(image, (224,224))), (2, 0, 1))\n",
        "          frames.append(image)\n",
        "        \n",
        "        if success:\n",
        "          considered_frames_counter += 1\n",
        "\n",
        "      videos.append(frames)\n",
        "    elif count >= end:\n",
        "      break\n",
        "    count += 1\n",
        "    # print(count, considered_frames_counter)\n",
        "              \n",
        "  # audio = torch.tensor(np.asarray(videos)).float()\n",
        "  video = torch.tensor(np.asarray(videos)).float() # (batch x frames x channels x height x width)\n",
        "  print(video.shape)\n",
        "  del videos\n",
        "  return video,labels\n"
      ],
      "metadata": {
        "id": "3LYs8Yd1uNjv"
      },
      "execution_count": 3,
      "outputs": []
    },
    {
      "cell_type": "code",
      "source": [
        ""
      ],
      "metadata": {
        "id": "8nYpW_FIW81V"
      },
      "execution_count": 3,
      "outputs": []
    },
    {
      "cell_type": "markdown",
      "source": [
        "#Combined arch"
      ],
      "metadata": {
        "id": "mbmwrSGyqqnm"
      }
    },
    {
      "cell_type": "code",
      "source": [
        " ##  EDITED\n",
        "\n",
        "class TimeSformervid(nn.Module):\n",
        "    def __init__(\n",
        "        self,\n",
        "        *,\n",
        "        dim,\n",
        "        num_frames,\n",
        "        num_classes,\n",
        "        image_size = 224,\n",
        "        patch_size = 16,\n",
        "        channels = 3,\n",
        "        depth = 12,\n",
        "        heads = 8,\n",
        "        dim_head = 64,\n",
        "        attn_dropout = 0.,\n",
        "        ff_dropout = 0.\n",
        "    ):\n",
        "        super().__init__()\n",
        "        assert image_size % patch_size == 0, 'Image dimensions must be divisible by the patch size.'\n",
        "\n",
        "        num_patches = (image_size // patch_size) ** 2\n",
        "        num_positions = num_frames * num_patches\n",
        "        patch_dim = channels * patch_size ** 2\n",
        "\n",
        "        self.patch_size = patch_size\n",
        "        self.to_patch_embedding = nn.Linear(patch_dim, dim)\n",
        "        self.pos_emb = nn.Embedding(num_positions + 1, dim)\n",
        "        self.cls_token = nn.Parameter(torch.randn(1, dim))\n",
        "\n",
        "        self.layers = nn.ModuleList([])\n",
        "        for _ in range(depth):\n",
        "            self.layers.append(nn.ModuleList([\n",
        "                PreNorm(dim, Attention(dim, dim_head = dim_head, heads = heads, dropout = attn_dropout)), # Time attention\n",
        "                PreNorm(dim, Attention(dim, dim_head = dim_head, heads = heads, dropout = attn_dropout)), # Spatial attention\n",
        "                PreNorm(dim, FeedForward(dim, dropout = ff_dropout)) # Feed Forward\n",
        "            ]))\n",
        "\n",
        "        # self.to_out = nn.Sequential(\n",
        "        #     nn.LayerNorm(dim),\n",
        "        #     nn.Linear(dim, num_classes)\n",
        "        # )\n",
        "\n",
        "    def forward(self, video):\n",
        "        b, f, _, h, w, *_, device, p = *video.shape, video.device, self.patch_size\n",
        "\n",
        "        assert h % p == 0 and w % p == 0, f'height {h} and width {w} of video must be divisible by the patch size {p}'\n",
        "\n",
        "        n = (h // p) * (w // p)\n",
        "        video = rearrange(video, 'b f c (h p1) (w p2) -> b (f h w) (p1 p2 c)', p1 = p, p2 = p)\n",
        "        \n",
        "        tokens = self.to_patch_embedding(video)\n",
        "\n",
        "        cls_token = repeat(self.cls_token, 'n d -> b n d', b = b)\n",
        "        x =  torch.cat((cls_token, tokens), dim = 1)\n",
        "        x += self.pos_emb(torch.arange(x.shape[1], device = device))\n",
        "\n",
        "        for (time_attn, spatial_attn, ff) in self.layers:\n",
        "            x = time_attn(x, 'b (f n) d', '(b n) f d', n = n) + x\n",
        "            x = spatial_attn(x, 'b (f n) d', '(b f) n d', f = f) + x\n",
        "            x = ff(x) + x\n",
        "\n",
        "        cls_token = x[:, 0]\n",
        "        \n",
        "        return cls_token#self.to_out(cls_token)\n",
        "    \n",
        "class TimeSformeraud(nn.Module):\n",
        "    def __init__(\n",
        "        self,\n",
        "        *,\n",
        "        dim,\n",
        "        num_frames,\n",
        "        num_classes,\n",
        "        image_size = 224,\n",
        "        patch_size = 16,\n",
        "        channels = 1,\n",
        "        depth = 12,\n",
        "        heads = 8,\n",
        "        dim_head = 64,\n",
        "        attn_dropout = 0.,\n",
        "        ff_dropout = 0.\n",
        "    ):\n",
        "        super().__init__()\n",
        "        assert image_size % patch_size == 0, 'Image dimensions must be divisible by the patch size.'\n",
        "\n",
        "        num_patches = (image_size // patch_size) ** 2\n",
        "        num_positions = num_frames * num_patches\n",
        "        patch_dim = channels * patch_size ** 2\n",
        "\n",
        "        self.patch_size = patch_size\n",
        "        self.to_patch_embedding = nn.Linear(patch_dim, dim)\n",
        "        self.pos_emb = nn.Embedding(num_positions + 1, dim)\n",
        "        self.cls_token = nn.Parameter(torch.randn(1, dim))\n",
        "\n",
        "        self.layers = nn.ModuleList([])\n",
        "        for _ in range(depth):\n",
        "            self.layers.append(nn.ModuleList([\n",
        "                PreNorm(dim, Attention(dim, dim_head = dim_head, heads = heads, dropout = attn_dropout)), # Time attention\n",
        "                PreNorm(dim, Attention(dim, dim_head = dim_head, heads = heads, dropout = attn_dropout)), # Spatial attention\n",
        "                PreNorm(dim, FeedForward(dim, dropout = ff_dropout)) # Feed Forward\n",
        "            ]))\n",
        "\n",
        "        # self.to_out = nn.Sequential(\n",
        "        #     nn.LayerNorm(dim),\n",
        "        #     nn.Linear(dim, num_classes)\n",
        "        # )\n",
        "\n",
        "    def forward(self, video):\n",
        "        b, f, _, h, w, *_, device, p = *video.shape, video.device, self.patch_size\n",
        "\n",
        "        assert h % p == 0 and w % p == 0, f'height {h} and width {w} of video must be divisible by the patch size {p}'\n",
        "\n",
        "        n = (h // p) * (w // p)\n",
        "        video = rearrange(video, 'b f c (h p1) (w p2) -> b (f h w) (p1 p2 c)', p1 = p, p2 = p)\n",
        "        \n",
        "        tokens = self.to_patch_embedding(video)\n",
        "\n",
        "        cls_token = repeat(self.cls_token, 'n d -> b n d', b = b)\n",
        "        x =  torch.cat((cls_token, tokens), dim = 1)\n",
        "        x += self.pos_emb(torch.arange(x.shape[1], device = device))\n",
        "\n",
        "        for (time_attn, spatial_attn, ff) in self.layers:\n",
        "            x = time_attn(x, 'b (f n) d', '(b n) f d', n = n) + x\n",
        "            x = spatial_attn(x, 'b (f n) d', '(b f) n d', f = f) + x\n",
        "            x = ff(x) + x\n",
        "\n",
        "        cls_token = x[:, 0]\n",
        "        \n",
        "        return cls_token#self.to_out(cls_token)\n",
        "class ParentModel(nn.Module):\n",
        "    def __init__(self, modelA, modelB, modelC):\n",
        "        super(ParentModel, self).__init__()\n",
        "        self.modelA = modelA\n",
        "        self.modelB = modelB\n",
        "        self.modelC = modelC\n",
        "        \n",
        "    def forward(self, x1, x2):\n",
        "        x1 = self.modelA(x1)\n",
        "        x2 = self.modelB(x2)\n",
        "        x = torch.cat((x1, x2), dim=1)\n",
        "        x = self.modelC(x)\n",
        "        return x"
      ],
      "metadata": {
        "id": "NmR0MGWAm8Te"
      },
      "execution_count": 4,
      "outputs": []
    },
    {
      "cell_type": "code",
      "source": [
        ""
      ],
      "metadata": {
        "id": "B45C5AzPq-Tx"
      },
      "execution_count": null,
      "outputs": []
    },
    {
      "cell_type": "code",
      "source": [
        ""
      ],
      "metadata": {
        "id": "r4cHLQQttBLY"
      },
      "execution_count": null,
      "outputs": []
    },
    {
      "cell_type": "markdown",
      "source": [
        "#part 1 : 0-3\n"
      ],
      "metadata": {
        "id": "FWFZfVg-4643"
      }
    },
    {
      "cell_type": "code",
      "source": [
        "PATH = '/content/drive/MyDrive/dataset/mix data/'\n",
        "start = 0\n",
        "end = 3\n",
        "audata , audlabel = audioextract(PATH,start,end)\n",
        "vidata , vidlabel = vidextract(PATH,start,end)\n",
        "\n",
        "DIM = 224\n",
        "IMAGE_SIZE = 224\n",
        "PATCH_SIZE = 16\n",
        "NUM_CLASSES = 2\n",
        "NUM_FRAMES = 6\n",
        "DEPTH = 12\n",
        "HEADS = 8\n",
        "DIM_HEAD = 64\n",
        "ATTN_DROPOUT = 0.1\n",
        "FF_DROPOUT = 0.1\n",
        "ITERATIONS = 20\n",
        "video_arc = TimeSformervid(dim = DIM, image_size = IMAGE_SIZE, patch_size = PATCH_SIZE, num_frames = NUM_FRAMES, num_classes = NUM_CLASSES, depth = DEPTH, heads = HEADS, dim_head = DIM_HEAD, attn_dropout = ATTN_DROPOUT, ff_dropout = FF_DROPOUT)\n",
        "NUM_FRAMES = 8\n",
        "audio_arc = TimeSformeraud(dim = DIM, image_size = IMAGE_SIZE, patch_size = PATCH_SIZE, num_frames = NUM_FRAMES, num_classes = NUM_CLASSES, depth = DEPTH, heads = HEADS, dim_head = DIM_HEAD, attn_dropout = ATTN_DROPOUT, ff_dropout = FF_DROPOUT)\n",
        "\n",
        "comb = nn.Sequential(\n",
        "            nn.LayerNorm(2*DIM),\n",
        "            nn.Linear(2*DIM, 2),\n",
        "            nn.Softmax(dim = 1)\n",
        "        )\n",
        "model = ParentModel(video_arc, audio_arc, comb)\n",
        "# #load older\n",
        "# PATH = '/content/drive/MyDrive/dataset/paindata1.pth'\n",
        "# chkpnt = torch.load(PATH)\n",
        "# model.load_state_dict(chkpnt)\n",
        "\n",
        "loss_fn = torch.nn.BCELoss()\n",
        "labels = torch.FloatTensor(audlabel)#[[0.4, 0.6] for i in range(len(video))]) # Add here your own labels\n",
        "\n",
        "learning_rate = 1e-4\n",
        "for t in range(15):#ITERATIONS):\n",
        "  y_pred = model(vidata , audata)\n",
        "\n",
        "  loss = loss_fn(y_pred, torch.tensor(labels))\n",
        "  print(\"#\" + str(t), \" loss:\" + str(loss.item()))\n",
        "  \n",
        "  model.zero_grad()\n",
        "  loss.backward()\n",
        "  with torch.no_grad():\n",
        "      for param in model.parameters():\n",
        "          param -= learning_rate * param.grad\n",
        "PATH = '/content/drive/MyDrive/dataset/paindata1.pth'\n",
        "torch.save(model.state_dict(), PATH)"
      ],
      "metadata": {
        "colab": {
          "base_uri": "https://localhost:8080/"
        },
        "id": "LBT9Iw0ItdMD",
        "outputId": "ad2323ad-9ad5-46e9-c018-466d5fc1d3d5"
      },
      "execution_count": null,
      "outputs": [
        {
          "output_type": "stream",
          "name": "stdout",
          "text": [
            "/content/drive/MyDrive/dataset/mix data/S001_Friction_1_[0]_20s\n",
            "[MoviePy] Writing audio in /content/drive/MyDrive/dataset/temp.wav\n"
          ]
        },
        {
          "output_type": "stream",
          "name": "stderr",
          "text": [
            "100%|██████████| 442/442 [00:00<00:00, 1431.00it/s]\n"
          ]
        },
        {
          "output_type": "stream",
          "name": "stdout",
          "text": [
            "[MoviePy] Done.\n",
            "/content/drive/MyDrive/dataset/mix data/S001_Rest_1_[0]_20s\n",
            "[MoviePy] Writing audio in /content/drive/MyDrive/dataset/temp.wav\n"
          ]
        },
        {
          "output_type": "stream",
          "name": "stderr",
          "text": [
            "100%|██████████| 442/442 [00:00<00:00, 1637.52it/s]"
          ]
        },
        {
          "output_type": "stream",
          "name": "stdout",
          "text": [
            "[MoviePy] Done.\n"
          ]
        },
        {
          "output_type": "stream",
          "name": "stderr",
          "text": [
            "\n"
          ]
        },
        {
          "output_type": "stream",
          "name": "stdout",
          "text": [
            "/content/drive/MyDrive/dataset/mix data/S001_Rest_2_[0]_20s\n",
            "[MoviePy] Writing audio in /content/drive/MyDrive/dataset/temp.wav\n"
          ]
        },
        {
          "output_type": "stream",
          "name": "stderr",
          "text": [
            "100%|██████████| 442/442 [00:00<00:00, 1633.72it/s]"
          ]
        },
        {
          "output_type": "stream",
          "name": "stdout",
          "text": [
            "[MoviePy] Done.\n"
          ]
        },
        {
          "output_type": "stream",
          "name": "stderr",
          "text": [
            "\n"
          ]
        },
        {
          "output_type": "stream",
          "name": "stdout",
          "text": [
            "torch.Size([3, 8, 1, 224, 224])\n",
            "600\n",
            "Loading S001_Friction_1_[0]_20s.mp4...\n",
            "Fric\n",
            "Loading S001_Rest_1_[0]_20s.mp4...\n",
            "Rest\n",
            "Loading S001_Rest_2_[0]_20s.mp4...\n",
            "Rest\n",
            "torch.Size([3, 6, 3, 224, 224])\n",
            "#0  loss:1.2430533170700073\n",
            "#1  loss:1.1109040975570679\n",
            "#2  loss:1.1025928258895874\n",
            "#3  loss:0.8867625594139099\n",
            "#4  loss:0.8954576849937439\n",
            "#5  loss:0.8472201824188232\n",
            "#6  loss:0.7947699427604675\n",
            "#7  loss:0.7569810748100281\n",
            "#8  loss:0.6903131604194641\n",
            "#9  loss:0.612330973148346\n",
            "#10  loss:0.5015454292297363\n",
            "#11  loss:0.44943031668663025\n",
            "#12  loss:0.5118887424468994\n",
            "#13  loss:0.3870948255062103\n",
            "#14  loss:0.39312586188316345\n"
          ]
        }
      ]
    },
    {
      "cell_type": "markdown",
      "source": [
        "#part 2 : 86-90"
      ],
      "metadata": {
        "id": "dd6b_HQj5A12"
      }
    },
    {
      "cell_type": "code",
      "source": [
        "PATH = '/content/drive/MyDrive/dataset/mix data/'\n",
        "start = 86\n",
        "end = 90\n",
        "audata , audlabel = audioextract(PATH,start,end)\n",
        "vidata , vidlabel = vidextract(PATH,start,end)\n",
        "\n",
        "DIM = 224\n",
        "IMAGE_SIZE = 224\n",
        "PATCH_SIZE = 16\n",
        "NUM_CLASSES = 2\n",
        "NUM_FRAMES = 6\n",
        "DEPTH = 12\n",
        "HEADS = 8\n",
        "DIM_HEAD = 64\n",
        "ATTN_DROPOUT = 0.1\n",
        "FF_DROPOUT = 0.1\n",
        "ITERATIONS = 20\n",
        "video_arc = TimeSformervid(dim = DIM, image_size = IMAGE_SIZE, patch_size = PATCH_SIZE, num_frames = NUM_FRAMES, num_classes = NUM_CLASSES, depth = DEPTH, heads = HEADS, dim_head = DIM_HEAD, attn_dropout = ATTN_DROPOUT, ff_dropout = FF_DROPOUT)\n",
        "NUM_FRAMES = 8\n",
        "audio_arc = TimeSformeraud(dim = DIM, image_size = IMAGE_SIZE, patch_size = PATCH_SIZE, num_frames = NUM_FRAMES, num_classes = NUM_CLASSES, depth = DEPTH, heads = HEADS, dim_head = DIM_HEAD, attn_dropout = ATTN_DROPOUT, ff_dropout = FF_DROPOUT)\n",
        "\n",
        "comb = nn.Sequential(\n",
        "            nn.LayerNorm(2*DIM),\n",
        "            nn.Linear(2*DIM, 2),\n",
        "            nn.Softmax(dim = 1)\n",
        "        )\n",
        "model = ParentModel(video_arc, audio_arc, comb)\n",
        "# #load older\n",
        "PATH = '/content/drive/MyDrive/dataset/paindata1.pth'\n",
        "chkpnt = torch.load(PATH)\n",
        "model.load_state_dict(chkpnt)\n",
        "\n",
        "loss_fn = torch.nn.BCELoss()\n",
        "labels = torch.FloatTensor(audlabel)#[[0.4, 0.6] for i in range(len(video))]) # Add here your own labels\n",
        "\n",
        "learning_rate = 1e-4\n",
        "for t in range(15):#ITERATIONS):\n",
        "  y_pred = model(vidata , audata)\n",
        "\n",
        "  loss = loss_fn(y_pred, torch.tensor(labels))\n",
        "  print(\"#\" + str(t), \" loss:\" + str(loss.item()))\n",
        "  \n",
        "  model.zero_grad()\n",
        "  loss.backward()\n",
        "  with torch.no_grad():\n",
        "      for param in model.parameters():\n",
        "          param -= learning_rate * param.grad\n",
        "PATH = '/content/drive/MyDrive/dataset/paindata2.pth'\n",
        "torch.save(model.state_dict(), PATH)"
      ],
      "metadata": {
        "colab": {
          "base_uri": "https://localhost:8080/"
        },
        "id": "cvKXWTjo5IJw",
        "outputId": "a1251590-f7fc-4128-a220-620622b0b67c"
      },
      "execution_count": null,
      "outputs": [
        {
          "output_type": "stream",
          "name": "stdout",
          "text": [
            "/content/drive/MyDrive/dataset/mix data/S039_Pain_1_[0]_20s\n",
            "[MoviePy] Writing audio in /content/drive/MyDrive/dataset/temp.wav\n"
          ]
        },
        {
          "output_type": "stream",
          "name": "stderr",
          "text": [
            "100%|██████████| 442/442 [00:00<00:00, 1485.73it/s]\n"
          ]
        },
        {
          "output_type": "stream",
          "name": "stdout",
          "text": [
            "[MoviePy] Done.\n",
            "/content/drive/MyDrive/dataset/mix data/S038_Pain_1_[0]_20s\n",
            "[MoviePy] Writing audio in /content/drive/MyDrive/dataset/temp.wav\n"
          ]
        },
        {
          "output_type": "stream",
          "name": "stderr",
          "text": [
            "100%|██████████| 442/442 [00:00<00:00, 1361.27it/s]"
          ]
        },
        {
          "output_type": "stream",
          "name": "stdout",
          "text": [
            "[MoviePy] Done.\n"
          ]
        },
        {
          "output_type": "stream",
          "name": "stderr",
          "text": [
            "\n"
          ]
        },
        {
          "output_type": "stream",
          "name": "stdout",
          "text": [
            "/content/drive/MyDrive/dataset/mix data/S040_Pain_1_[0]_20s\n",
            "[MoviePy] Writing audio in /content/drive/MyDrive/dataset/temp.wav\n"
          ]
        },
        {
          "output_type": "stream",
          "name": "stderr",
          "text": [
            "100%|██████████| 442/442 [00:00<00:00, 1298.18it/s]"
          ]
        },
        {
          "output_type": "stream",
          "name": "stdout",
          "text": [
            "[MoviePy] Done.\n"
          ]
        },
        {
          "output_type": "stream",
          "name": "stderr",
          "text": [
            "\n"
          ]
        },
        {
          "output_type": "stream",
          "name": "stdout",
          "text": [
            "/content/drive/MyDrive/dataset/mix data/S042_Pain_1_[0]_20s\n",
            "[MoviePy] Writing audio in /content/drive/MyDrive/dataset/temp.wav\n"
          ]
        },
        {
          "output_type": "stream",
          "name": "stderr",
          "text": [
            "100%|██████████| 442/442 [00:00<00:00, 1146.38it/s]"
          ]
        },
        {
          "output_type": "stream",
          "name": "stdout",
          "text": [
            "[MoviePy] Done.\n"
          ]
        },
        {
          "output_type": "stream",
          "name": "stderr",
          "text": [
            "\n"
          ]
        },
        {
          "output_type": "stream",
          "name": "stdout",
          "text": [
            "torch.Size([4, 8, 1, 224, 224])\n",
            "600\n",
            "Loading S039_Pain_1_[0]_20s.mp4...\n",
            "Pain\n",
            "Loading S038_Pain_1_[0]_20s.mp4...\n",
            "Pain\n",
            "Loading S040_Pain_1_[0]_20s.mp4...\n",
            "Pain\n",
            "Loading S042_Pain_1_[0]_20s.mp4...\n",
            "Pain\n",
            "torch.Size([4, 6, 3, 224, 224])\n",
            "#0  loss:1.077333688735962\n",
            "#1  loss:1.0384373664855957\n",
            "#2  loss:0.8980099558830261\n",
            "#3  loss:0.8334181308746338\n",
            "#4  loss:0.8182480335235596\n",
            "#5  loss:0.6857007741928101\n",
            "#6  loss:0.6618469953536987\n",
            "#7  loss:0.5908451080322266\n",
            "#8  loss:0.5738427639007568\n",
            "#9  loss:0.5837259888648987\n",
            "#10  loss:0.4521908760070801\n",
            "#11  loss:0.3856562376022339\n",
            "#12  loss:0.4569796323776245\n",
            "#13  loss:0.49451157450675964\n",
            "#14  loss:0.40760892629623413\n"
          ]
        }
      ]
    },
    {
      "cell_type": "markdown",
      "source": [
        "#part 3 : 4-8"
      ],
      "metadata": {
        "id": "BhH6qGzA54SD"
      }
    },
    {
      "cell_type": "code",
      "source": [
        "PATH = '/content/drive/MyDrive/dataset/mix data/'\n",
        "start = 4\n",
        "end = 8\n",
        "audata , audlabel = audioextract(PATH,start,end)\n",
        "vidata , vidlabel = vidextract(PATH,start,end)\n",
        "\n",
        "DIM = 224\n",
        "IMAGE_SIZE = 224\n",
        "PATCH_SIZE = 16\n",
        "NUM_CLASSES = 2\n",
        "NUM_FRAMES = 6\n",
        "DEPTH = 12\n",
        "HEADS = 8\n",
        "DIM_HEAD = 64\n",
        "ATTN_DROPOUT = 0.1\n",
        "FF_DROPOUT = 0.1\n",
        "ITERATIONS = 20\n",
        "video_arc = TimeSformervid(dim = DIM, image_size = IMAGE_SIZE, patch_size = PATCH_SIZE, num_frames = NUM_FRAMES, num_classes = NUM_CLASSES, depth = DEPTH, heads = HEADS, dim_head = DIM_HEAD, attn_dropout = ATTN_DROPOUT, ff_dropout = FF_DROPOUT)\n",
        "NUM_FRAMES = 8\n",
        "audio_arc = TimeSformeraud(dim = DIM, image_size = IMAGE_SIZE, patch_size = PATCH_SIZE, num_frames = NUM_FRAMES, num_classes = NUM_CLASSES, depth = DEPTH, heads = HEADS, dim_head = DIM_HEAD, attn_dropout = ATTN_DROPOUT, ff_dropout = FF_DROPOUT)\n",
        "\n",
        "comb = nn.Sequential(\n",
        "            nn.LayerNorm(2*DIM),\n",
        "            nn.Linear(2*DIM, 2),\n",
        "            nn.Softmax(dim = 1)\n",
        "        )\n",
        "model = ParentModel(video_arc, audio_arc, comb)\n",
        "# #load older\n",
        "# PATH = '/content/drive/MyDrive/dataset/paindata1.pth'\n",
        "# chkpnt = torch.load(PATH)\n",
        "# model.load_state_dict(chkpnt)\n",
        "\n",
        "loss_fn = torch.nn.BCELoss()\n",
        "labels = torch.FloatTensor(audlabel)#[[0.4, 0.6] for i in range(len(video))]) # Add here your own labels\n",
        "\n",
        "learning_rate = 1e-4\n",
        "for t in range(15):#ITERATIONS):\n",
        "  y_pred = model(vidata , audata)\n",
        "\n",
        "  loss = loss_fn(y_pred, torch.tensor(labels))\n",
        "  print(\"#\" + str(t), \" loss:\" + str(loss.item()))\n",
        "  \n",
        "  model.zero_grad()\n",
        "  loss.backward()\n",
        "  with torch.no_grad():\n",
        "      for param in model.parameters():\n",
        "          param -= learning_rate * param.grad\n",
        "PATH = '/content/drive/MyDrive/dataset/paindata3.pth'\n",
        "torch.save(model.state_dict(), PATH)"
      ],
      "metadata": {
        "colab": {
          "base_uri": "https://localhost:8080/"
        },
        "id": "HbDLneN_54SE",
        "outputId": "6732d654-8ec2-470d-9f37-06086d9f2a39"
      },
      "execution_count": null,
      "outputs": [
        {
          "output_type": "stream",
          "name": "stdout",
          "text": [
            "/content/drive/MyDrive/dataset/mix data/S002_Friction_1_[0]_20s\n",
            "[MoviePy] Writing audio in /content/drive/MyDrive/dataset/temp.wav\n"
          ]
        },
        {
          "output_type": "stream",
          "name": "stderr",
          "text": [
            "100%|██████████| 442/442 [00:00<00:00, 1125.34it/s]"
          ]
        },
        {
          "output_type": "stream",
          "name": "stdout",
          "text": [
            "[MoviePy] Done.\n"
          ]
        },
        {
          "output_type": "stream",
          "name": "stderr",
          "text": [
            "\n"
          ]
        },
        {
          "output_type": "stream",
          "name": "stdout",
          "text": [
            "/content/drive/MyDrive/dataset/mix data/S002_Rest_1_[0]_20s\n",
            "[MoviePy] Writing audio in /content/drive/MyDrive/dataset/temp.wav\n"
          ]
        },
        {
          "output_type": "stream",
          "name": "stderr",
          "text": [
            "100%|██████████| 442/442 [00:00<00:00, 1310.74it/s]"
          ]
        },
        {
          "output_type": "stream",
          "name": "stdout",
          "text": [
            "[MoviePy] Done.\n"
          ]
        },
        {
          "output_type": "stream",
          "name": "stderr",
          "text": [
            "\n"
          ]
        },
        {
          "output_type": "stream",
          "name": "stdout",
          "text": [
            "/content/drive/MyDrive/dataset/mix data/S002_Rest_2_[0]_20s\n",
            "[MoviePy] Writing audio in /content/drive/MyDrive/dataset/temp.wav\n"
          ]
        },
        {
          "output_type": "stream",
          "name": "stderr",
          "text": [
            "100%|██████████| 442/442 [00:00<00:00, 1208.81it/s]"
          ]
        },
        {
          "output_type": "stream",
          "name": "stdout",
          "text": [
            "[MoviePy] Done.\n"
          ]
        },
        {
          "output_type": "stream",
          "name": "stderr",
          "text": [
            "\n"
          ]
        },
        {
          "output_type": "stream",
          "name": "stdout",
          "text": [
            "/content/drive/MyDrive/dataset/mix data/S003_Rest_2_[0]_20s\n",
            "[MoviePy] Writing audio in /content/drive/MyDrive/dataset/temp.wav\n"
          ]
        },
        {
          "output_type": "stream",
          "name": "stderr",
          "text": [
            "100%|██████████| 442/442 [00:00<00:00, 1424.54it/s]"
          ]
        },
        {
          "output_type": "stream",
          "name": "stdout",
          "text": [
            "[MoviePy] Done.\n"
          ]
        },
        {
          "output_type": "stream",
          "name": "stderr",
          "text": [
            "\n"
          ]
        },
        {
          "output_type": "stream",
          "name": "stdout",
          "text": [
            "torch.Size([4, 8, 1, 224, 224])\n",
            "600\n",
            "Loading S002_Friction_1_[0]_20s.mp4...\n",
            "Fric\n",
            "Loading S002_Rest_1_[0]_20s.mp4...\n",
            "Rest\n",
            "Loading S002_Rest_2_[0]_20s.mp4...\n",
            "Rest\n",
            "Loading S003_Rest_2_[0]_20s.mp4...\n",
            "Rest\n",
            "torch.Size([4, 6, 3, 224, 224])\n",
            "#0  loss:0.6782015562057495\n",
            "#1  loss:0.6673566102981567\n",
            "#2  loss:0.5652531981468201\n",
            "#3  loss:0.5255536437034607\n",
            "#4  loss:0.4472886919975281\n",
            "#5  loss:0.4757254421710968\n",
            "#6  loss:0.5204955339431763\n",
            "#7  loss:0.3610319197177887\n",
            "#8  loss:0.38808929920196533\n",
            "#9  loss:0.3485448360443115\n",
            "#10  loss:0.3161793351173401\n",
            "#11  loss:0.2966289818286896\n",
            "#12  loss:0.303041011095047\n",
            "#13  loss:0.31347766518592834\n",
            "#14  loss:0.26301833987236023\n"
          ]
        }
      ]
    },
    {
      "cell_type": "markdown",
      "source": [
        "#part 4 : 82-86"
      ],
      "metadata": {
        "id": "z7RPGT_rEzOS"
      }
    },
    {
      "cell_type": "code",
      "source": [
        "PATH = '/content/drive/MyDrive/dataset/mix data/'\n",
        "start = 82\n",
        "end = 86\n",
        "audata , audlabel = audioextract(PATH,start,end)\n",
        "vidata , vidlabel = vidextract(PATH,start,end)\n",
        "\n",
        "DIM = 224\n",
        "IMAGE_SIZE = 224\n",
        "PATCH_SIZE = 16\n",
        "NUM_CLASSES = 2\n",
        "NUM_FRAMES = 6\n",
        "DEPTH = 12\n",
        "HEADS = 8\n",
        "DIM_HEAD = 64\n",
        "ATTN_DROPOUT = 0.1\n",
        "FF_DROPOUT = 0.1\n",
        "ITERATIONS = 20\n",
        "video_arc = TimeSformervid(dim = DIM, image_size = IMAGE_SIZE, patch_size = PATCH_SIZE, num_frames = NUM_FRAMES, num_classes = NUM_CLASSES, depth = DEPTH, heads = HEADS, dim_head = DIM_HEAD, attn_dropout = ATTN_DROPOUT, ff_dropout = FF_DROPOUT)\n",
        "NUM_FRAMES = 8\n",
        "audio_arc = TimeSformeraud(dim = DIM, image_size = IMAGE_SIZE, patch_size = PATCH_SIZE, num_frames = NUM_FRAMES, num_classes = NUM_CLASSES, depth = DEPTH, heads = HEADS, dim_head = DIM_HEAD, attn_dropout = ATTN_DROPOUT, ff_dropout = FF_DROPOUT)\n",
        "\n",
        "comb = nn.Sequential(\n",
        "            nn.LayerNorm(2*DIM),\n",
        "            nn.Linear(2*DIM, 2),\n",
        "            nn.Softmax(dim = 1)\n",
        "        )\n",
        "model = ParentModel(video_arc, audio_arc, comb)\n",
        "# #load older\n",
        "# PATH = '/content/drive/MyDrive/dataset/paindata1.pth'\n",
        "# chkpnt = torch.load(PATH)\n",
        "# model.load_state_dict(chkpnt)\n",
        "\n",
        "loss_fn = torch.nn.BCELoss()\n",
        "labels = torch.FloatTensor(audlabel)#[[0.4, 0.6] for i in range(len(video))]) # Add here your own labels\n",
        "\n",
        "learning_rate = 1e-4\n",
        "for t in range(15):#ITERATIONS):\n",
        "  y_pred = model(vidata , audata)\n",
        "\n",
        "  loss = loss_fn(y_pred, torch.tensor(labels))\n",
        "  print(\"#\" + str(t), \" loss:\" + str(loss.item()))\n",
        "  \n",
        "  model.zero_grad()\n",
        "  loss.backward()\n",
        "  with torch.no_grad():\n",
        "      for param in model.parameters():\n",
        "          param -= learning_rate * param.grad\n",
        "PATH = '/content/drive/MyDrive/dataset/paindata4.pth'\n",
        "torch.save(model.state_dict(), PATH)"
      ],
      "metadata": {
        "colab": {
          "base_uri": "https://localhost:8080/"
        },
        "outputId": "82cbbe50-fa6b-4d24-bedb-da1c38063e52",
        "id": "uDRrwTcUEzOT"
      },
      "execution_count": null,
      "outputs": [
        {
          "output_type": "stream",
          "name": "stdout",
          "text": [
            "/content/drive/MyDrive/dataset/mix data/S035_Pain_1_[0]_20s\n",
            "[MoviePy] Writing audio in /content/drive/MyDrive/dataset/temp.wav\n"
          ]
        },
        {
          "output_type": "stream",
          "name": "stderr",
          "text": [
            "100%|██████████| 442/442 [00:00<00:00, 1085.72it/s]"
          ]
        },
        {
          "output_type": "stream",
          "name": "stdout",
          "text": [
            "[MoviePy] Done.\n"
          ]
        },
        {
          "output_type": "stream",
          "name": "stderr",
          "text": [
            "\n"
          ]
        },
        {
          "output_type": "stream",
          "name": "stdout",
          "text": [
            "/content/drive/MyDrive/dataset/mix data/S036_Pain_1_[0]_20s\n",
            "[MoviePy] Writing audio in /content/drive/MyDrive/dataset/temp.wav\n"
          ]
        },
        {
          "output_type": "stream",
          "name": "stderr",
          "text": [
            "100%|██████████| 442/442 [00:00<00:00, 1372.56it/s]"
          ]
        },
        {
          "output_type": "stream",
          "name": "stdout",
          "text": [
            "[MoviePy] Done.\n"
          ]
        },
        {
          "output_type": "stream",
          "name": "stderr",
          "text": [
            "\n"
          ]
        },
        {
          "output_type": "stream",
          "name": "stdout",
          "text": [
            "/content/drive/MyDrive/dataset/mix data/S034_Pain_1_[0]_20s\n",
            "[MoviePy] Writing audio in /content/drive/MyDrive/dataset/temp.wav\n"
          ]
        },
        {
          "output_type": "stream",
          "name": "stderr",
          "text": [
            "100%|██████████| 442/442 [00:00<00:00, 1074.00it/s]"
          ]
        },
        {
          "output_type": "stream",
          "name": "stdout",
          "text": [
            "[MoviePy] Done.\n"
          ]
        },
        {
          "output_type": "stream",
          "name": "stderr",
          "text": [
            "\n"
          ]
        },
        {
          "output_type": "stream",
          "name": "stdout",
          "text": [
            "/content/drive/MyDrive/dataset/mix data/S037_Pain_1_[0]_20s\n",
            "[MoviePy] Writing audio in /content/drive/MyDrive/dataset/temp.wav\n"
          ]
        },
        {
          "output_type": "stream",
          "name": "stderr",
          "text": [
            "100%|██████████| 442/442 [00:00<00:00, 1339.25it/s]"
          ]
        },
        {
          "output_type": "stream",
          "name": "stdout",
          "text": [
            "[MoviePy] Done.\n"
          ]
        },
        {
          "output_type": "stream",
          "name": "stderr",
          "text": [
            "\n"
          ]
        },
        {
          "output_type": "stream",
          "name": "stdout",
          "text": [
            "torch.Size([4, 8, 1, 224, 224])\n",
            "600\n",
            "Loading S035_Pain_1_[0]_20s.mp4...\n",
            "Pain\n",
            "Loading S036_Pain_1_[0]_20s.mp4...\n",
            "Pain\n",
            "Loading S034_Pain_1_[0]_20s.mp4...\n",
            "Pain\n",
            "Loading S037_Pain_1_[0]_20s.mp4...\n",
            "Pain\n",
            "torch.Size([4, 6, 3, 224, 224])\n",
            "#0  loss:1.1664968729019165\n",
            "#1  loss:1.194850206375122\n",
            "#2  loss:1.019329309463501\n",
            "#3  loss:0.9733767509460449\n",
            "#4  loss:0.8188222646713257\n",
            "#5  loss:0.8372744917869568\n",
            "#6  loss:0.7279483079910278\n",
            "#7  loss:0.666986346244812\n",
            "#8  loss:0.6948415040969849\n",
            "#9  loss:0.5190324187278748\n",
            "#10  loss:0.5269142985343933\n",
            "#11  loss:0.5003228783607483\n",
            "#12  loss:0.46582478284835815\n",
            "#13  loss:0.4574684798717499\n",
            "#14  loss:0.40359535813331604\n"
          ]
        }
      ]
    },
    {
      "cell_type": "code",
      "source": [
        ""
      ],
      "metadata": {
        "id": "N6f1wsxQIjuu"
      },
      "execution_count": null,
      "outputs": []
    },
    {
      "cell_type": "markdown",
      "source": [
        "#part 5 : 4-8"
      ],
      "metadata": {
        "id": "tLdJQghUIm_2"
      }
    },
    {
      "cell_type": "code",
      "source": [
        "PATH = '/content/drive/MyDrive/dataset/mix data/'\n",
        "start = 8\n",
        "end = 12\n",
        "audata , audlabel = audioextract(PATH,start,end)\n",
        "vidata , vidlabel = vidextract(PATH,start,end)\n",
        "\n",
        "DIM = 224\n",
        "IMAGE_SIZE = 224\n",
        "PATCH_SIZE = 16\n",
        "NUM_CLASSES = 2\n",
        "NUM_FRAMES = 6\n",
        "DEPTH = 12\n",
        "HEADS = 8\n",
        "DIM_HEAD = 64\n",
        "ATTN_DROPOUT = 0.1\n",
        "FF_DROPOUT = 0.1\n",
        "ITERATIONS = 20\n",
        "video_arc = TimeSformervid(dim = DIM, image_size = IMAGE_SIZE, patch_size = PATCH_SIZE, num_frames = NUM_FRAMES, num_classes = NUM_CLASSES, depth = DEPTH, heads = HEADS, dim_head = DIM_HEAD, attn_dropout = ATTN_DROPOUT, ff_dropout = FF_DROPOUT)\n",
        "NUM_FRAMES = 8\n",
        "audio_arc = TimeSformeraud(dim = DIM, image_size = IMAGE_SIZE, patch_size = PATCH_SIZE, num_frames = NUM_FRAMES, num_classes = NUM_CLASSES, depth = DEPTH, heads = HEADS, dim_head = DIM_HEAD, attn_dropout = ATTN_DROPOUT, ff_dropout = FF_DROPOUT)\n",
        "\n",
        "comb = nn.Sequential(\n",
        "            nn.LayerNorm(2*DIM),\n",
        "            nn.Linear(2*DIM, 2),\n",
        "            nn.Softmax(dim = 1)\n",
        "        )\n",
        "model = ParentModel(video_arc, audio_arc, comb)\n",
        "# #load older\n",
        "# PATH = '/content/drive/MyDrive/dataset/paindata1.pth'\n",
        "# chkpnt = torch.load(PATH)\n",
        "# model.load_state_dict(chkpnt)\n",
        "\n",
        "loss_fn = torch.nn.BCELoss()\n",
        "labels = torch.FloatTensor(audlabel)#[[0.4, 0.6] for i in range(len(video))]) # Add here your own labels\n",
        "\n",
        "learning_rate = 1e-4\n",
        "for t in range(15):#ITERATIONS):\n",
        "  y_pred = model(vidata , audata)\n",
        "\n",
        "  loss = loss_fn(y_pred, torch.tensor(labels))\n",
        "  print(\"#\" + str(t), \" loss:\" + str(loss.item()))\n",
        "  \n",
        "  model.zero_grad()\n",
        "  loss.backward()\n",
        "  with torch.no_grad():\n",
        "      for param in model.parameters():\n",
        "          param -= learning_rate * param.grad\n",
        "PATH = '/content/drive/MyDrive/dataset/paindata5.pth'\n",
        "torch.save(model.state_dict(), PATH)"
      ],
      "metadata": {
        "colab": {
          "base_uri": "https://localhost:8080/"
        },
        "outputId": "6def97ea-6087-48a1-8f7f-74d76781df55",
        "id": "BF6tj9kNIm_3"
      },
      "execution_count": null,
      "outputs": [
        {
          "output_type": "stream",
          "name": "stdout",
          "text": [
            "/content/drive/MyDrive/dataset/mix data/S003_Rest_1_[0]_20s\n",
            "[MoviePy] Writing audio in /content/drive/MyDrive/dataset/temp.wav\n"
          ]
        },
        {
          "output_type": "stream",
          "name": "stderr",
          "text": [
            "100%|██████████| 442/442 [00:00<00:00, 1436.57it/s]"
          ]
        },
        {
          "output_type": "stream",
          "name": "stdout",
          "text": [
            "[MoviePy] Done.\n"
          ]
        },
        {
          "output_type": "stream",
          "name": "stderr",
          "text": [
            "\n"
          ]
        },
        {
          "output_type": "stream",
          "name": "stdout",
          "text": [
            "/content/drive/MyDrive/dataset/mix data/S003_Friction_1_[0]_20s\n",
            "[MoviePy] Writing audio in /content/drive/MyDrive/dataset/temp.wav\n"
          ]
        },
        {
          "output_type": "stream",
          "name": "stderr",
          "text": [
            "100%|██████████| 442/442 [00:00<00:00, 1538.97it/s]"
          ]
        },
        {
          "output_type": "stream",
          "name": "stdout",
          "text": [
            "[MoviePy] Done.\n"
          ]
        },
        {
          "output_type": "stream",
          "name": "stderr",
          "text": [
            "\n"
          ]
        },
        {
          "output_type": "stream",
          "name": "stdout",
          "text": [
            "/content/drive/MyDrive/dataset/mix data/S004_Friction_1_[0]_20s\n",
            "[MoviePy] Writing audio in /content/drive/MyDrive/dataset/temp.wav\n"
          ]
        },
        {
          "output_type": "stream",
          "name": "stderr",
          "text": [
            "100%|██████████| 442/442 [00:00<00:00, 1218.01it/s]"
          ]
        },
        {
          "output_type": "stream",
          "name": "stdout",
          "text": [
            "[MoviePy] Done.\n"
          ]
        },
        {
          "output_type": "stream",
          "name": "stderr",
          "text": [
            "\n"
          ]
        },
        {
          "output_type": "stream",
          "name": "stdout",
          "text": [
            "/content/drive/MyDrive/dataset/mix data/S004_Move_1_[0]_20s\n",
            "[MoviePy] Writing audio in /content/drive/MyDrive/dataset/temp.wav\n"
          ]
        },
        {
          "output_type": "stream",
          "name": "stderr",
          "text": [
            "100%|██████████| 442/442 [00:00<00:00, 1251.21it/s]"
          ]
        },
        {
          "output_type": "stream",
          "name": "stdout",
          "text": [
            "[MoviePy] Done.\n"
          ]
        },
        {
          "output_type": "stream",
          "name": "stderr",
          "text": [
            "\n"
          ]
        },
        {
          "output_type": "stream",
          "name": "stdout",
          "text": [
            "torch.Size([4, 8, 1, 224, 224])\n",
            "600\n",
            "Loading S003_Rest_1_[0]_20s.mp4...\n",
            "Rest\n",
            "Loading S003_Friction_1_[0]_20s.mp4...\n",
            "Fric\n",
            "Loading S004_Friction_1_[0]_20s.mp4...\n",
            "Fric\n",
            "Loading S004_Move_1_[0]_20s.mp4...\n",
            "Move\n",
            "torch.Size([4, 6, 3, 224, 224])\n",
            "#0  loss:1.1044385433197021\n",
            "#1  loss:0.9471675157546997\n",
            "#2  loss:0.8939681053161621\n",
            "#3  loss:0.8573133945465088\n",
            "#4  loss:0.7727766633033752\n",
            "#5  loss:0.6236066818237305\n",
            "#6  loss:0.6053695678710938\n",
            "#7  loss:0.5926843285560608\n",
            "#8  loss:0.5377585291862488\n",
            "#9  loss:0.5732808709144592\n",
            "#10  loss:0.43039464950561523\n",
            "#11  loss:0.4244805872440338\n",
            "#12  loss:0.401862233877182\n",
            "#13  loss:0.39070671796798706\n",
            "#14  loss:0.41018998622894287\n"
          ]
        }
      ]
    },
    {
      "cell_type": "code",
      "source": [
        ""
      ],
      "metadata": {
        "id": "6UQLc1dGIzSy"
      },
      "execution_count": null,
      "outputs": []
    },
    {
      "cell_type": "markdown",
      "source": [
        "#part 6 : 8-12, 74-82"
      ],
      "metadata": {
        "id": "IGmZWBtgIzpg"
      }
    },
    {
      "cell_type": "code",
      "source": [
        "strl = [78, 8 , 74]\n",
        "endl = [82, 12, 78 ]\n",
        "for i in range(3):\n",
        "  PATH = '/content/drive/MyDrive/dataset/mix data/'\n",
        "  start = strl[i]\n",
        "  end = endl[i]\n",
        "  audata , audlabel = audioextract(PATH,start,end)\n",
        "  vidata , vidlabel = vidextract(PATH,start,end)\n",
        "\n",
        "  DIM = 224\n",
        "  IMAGE_SIZE = 224\n",
        "  PATCH_SIZE = 16\n",
        "  NUM_CLASSES = 2\n",
        "  NUM_FRAMES = 6\n",
        "  DEPTH = 12\n",
        "  HEADS = 8\n",
        "  DIM_HEAD = 64\n",
        "  ATTN_DROPOUT = 0.1\n",
        "  FF_DROPOUT = 0.1\n",
        "  ITERATIONS = 20\n",
        "  video_arc = TimeSformervid(dim = DIM, image_size = IMAGE_SIZE, patch_size = PATCH_SIZE, num_frames = NUM_FRAMES, num_classes = NUM_CLASSES, depth = DEPTH, heads = HEADS, dim_head = DIM_HEAD, attn_dropout = ATTN_DROPOUT, ff_dropout = FF_DROPOUT)\n",
        "  NUM_FRAMES = 8\n",
        "  audio_arc = TimeSformeraud(dim = DIM, image_size = IMAGE_SIZE, patch_size = PATCH_SIZE, num_frames = NUM_FRAMES, num_classes = NUM_CLASSES, depth = DEPTH, heads = HEADS, dim_head = DIM_HEAD, attn_dropout = ATTN_DROPOUT, ff_dropout = FF_DROPOUT)\n",
        "\n",
        "  comb = nn.Sequential(\n",
        "              nn.LayerNorm(2*DIM),\n",
        "              nn.Linear(2*DIM, 2),\n",
        "              nn.Softmax(dim = 1)\n",
        "          )\n",
        "  model = ParentModel(video_arc, audio_arc, comb)\n",
        "  # #load older\n",
        "  # PATH = '/content/drive/MyDrive/dataset/paindata1.pth'\n",
        "  # chkpnt = torch.load(PATH)\n",
        "  # model.load_state_dict(chkpnt)\n",
        "\n",
        "  loss_fn = torch.nn.BCELoss()\n",
        "  labels = torch.FloatTensor(audlabel)#[[0.4, 0.6] for i in range(len(video))]) # Add here your own labels\n",
        "\n",
        "  learning_rate = 1e-4\n",
        "  for t in range(15):#ITERATIONS):\n",
        "    y_pred = model(vidata , audata)\n",
        "\n",
        "    loss = loss_fn(y_pred, torch.tensor(labels))\n",
        "    print(\"#\" + str(t), \" loss:\" + str(loss.item()))\n",
        "    \n",
        "    model.zero_grad()\n",
        "    loss.backward()\n",
        "    with torch.no_grad():\n",
        "        for param in model.parameters():\n",
        "            param -= learning_rate * param.grad\n",
        "  PATH = '/content/drive/MyDrive/dataset/paindata6.pth'\n",
        "  torch.save(model.state_dict(), PATH)"
      ],
      "metadata": {
        "colab": {
          "base_uri": "https://localhost:8080/"
        },
        "outputId": "9ed9af7b-54f1-4271-c5e6-c5276fd46178",
        "id": "vx5BSpBfIzph"
      },
      "execution_count": null,
      "outputs": [
        {
          "output_type": "stream",
          "name": "stdout",
          "text": [
            "/content/drive/MyDrive/dataset/mix data/S031_Pain_1_[0]_20s\n",
            "[MoviePy] Writing audio in /content/drive/MyDrive/dataset/temp.wav\n"
          ]
        },
        {
          "output_type": "stream",
          "name": "stderr",
          "text": [
            "100%|██████████| 442/442 [00:00<00:00, 1330.94it/s]"
          ]
        },
        {
          "output_type": "stream",
          "name": "stdout",
          "text": [
            "[MoviePy] Done.\n"
          ]
        },
        {
          "output_type": "stream",
          "name": "stderr",
          "text": [
            "\n"
          ]
        },
        {
          "output_type": "stream",
          "name": "stdout",
          "text": [
            "/content/drive/MyDrive/dataset/mix data/S029_Pain_1_[0]_20s\n",
            "[MoviePy] Writing audio in /content/drive/MyDrive/dataset/temp.wav\n"
          ]
        },
        {
          "output_type": "stream",
          "name": "stderr",
          "text": [
            "100%|██████████| 442/442 [00:00<00:00, 1422.98it/s]"
          ]
        },
        {
          "output_type": "stream",
          "name": "stdout",
          "text": [
            "[MoviePy] Done.\n"
          ]
        },
        {
          "output_type": "stream",
          "name": "stderr",
          "text": [
            "\n"
          ]
        },
        {
          "output_type": "stream",
          "name": "stdout",
          "text": [
            "/content/drive/MyDrive/dataset/mix data/S033_Pain_1_[0]_20s\n",
            "[MoviePy] Writing audio in /content/drive/MyDrive/dataset/temp.wav\n"
          ]
        },
        {
          "output_type": "stream",
          "name": "stderr",
          "text": [
            "100%|██████████| 442/442 [00:00<00:00, 1291.91it/s]"
          ]
        },
        {
          "output_type": "stream",
          "name": "stdout",
          "text": [
            "[MoviePy] Done.\n"
          ]
        },
        {
          "output_type": "stream",
          "name": "stderr",
          "text": [
            "\n"
          ]
        },
        {
          "output_type": "stream",
          "name": "stdout",
          "text": [
            "/content/drive/MyDrive/dataset/mix data/S032_Pain_1_[0]_20s\n",
            "[MoviePy] Writing audio in /content/drive/MyDrive/dataset/temp.wav\n"
          ]
        },
        {
          "output_type": "stream",
          "name": "stderr",
          "text": [
            "100%|██████████| 442/442 [00:00<00:00, 1563.82it/s]"
          ]
        },
        {
          "output_type": "stream",
          "name": "stdout",
          "text": [
            "[MoviePy] Done.\n"
          ]
        },
        {
          "output_type": "stream",
          "name": "stderr",
          "text": [
            "\n"
          ]
        },
        {
          "output_type": "stream",
          "name": "stdout",
          "text": [
            "torch.Size([4, 8, 1, 224, 224])\n",
            "600\n",
            "Loading S031_Pain_1_[0]_20s.mp4...\n",
            "Pain\n",
            "Loading S029_Pain_1_[0]_20s.mp4...\n",
            "Pain\n",
            "Loading S033_Pain_1_[0]_20s.mp4...\n",
            "Pain\n",
            "Loading S032_Pain_1_[0]_20s.mp4...\n",
            "Pain\n",
            "torch.Size([4, 6, 3, 224, 224])\n",
            "#0  loss:0.21337264776229858\n",
            "#1  loss:0.20340320467948914\n",
            "#2  loss:0.2051437795162201\n",
            "#3  loss:0.17264625430107117\n",
            "#4  loss:0.20380687713623047\n",
            "#5  loss:0.18451057374477386\n",
            "#6  loss:0.19529549777507782\n",
            "#7  loss:0.18150976300239563\n",
            "#8  loss:0.1660064458847046\n",
            "#9  loss:0.17836423218250275\n",
            "#10  loss:0.16054512560367584\n",
            "#11  loss:0.1923915594816208\n",
            "#12  loss:0.14255018532276154\n",
            "#13  loss:0.15927009284496307\n",
            "#14  loss:0.12289401888847351\n",
            "/content/drive/MyDrive/dataset/mix data/S003_Rest_1_[0]_20s\n",
            "[MoviePy] Writing audio in /content/drive/MyDrive/dataset/temp.wav\n"
          ]
        },
        {
          "output_type": "stream",
          "name": "stderr",
          "text": [
            "100%|██████████| 442/442 [00:00<00:00, 1663.93it/s]"
          ]
        },
        {
          "output_type": "stream",
          "name": "stdout",
          "text": [
            "[MoviePy] Done.\n"
          ]
        },
        {
          "output_type": "stream",
          "name": "stderr",
          "text": [
            "\n"
          ]
        },
        {
          "output_type": "stream",
          "name": "stdout",
          "text": [
            "/content/drive/MyDrive/dataset/mix data/S003_Friction_1_[0]_20s\n",
            "[MoviePy] Writing audio in /content/drive/MyDrive/dataset/temp.wav\n"
          ]
        },
        {
          "output_type": "stream",
          "name": "stderr",
          "text": [
            "100%|██████████| 442/442 [00:00<00:00, 1589.59it/s]"
          ]
        },
        {
          "output_type": "stream",
          "name": "stdout",
          "text": [
            "[MoviePy] Done.\n"
          ]
        },
        {
          "output_type": "stream",
          "name": "stderr",
          "text": [
            "\n"
          ]
        },
        {
          "output_type": "stream",
          "name": "stdout",
          "text": [
            "/content/drive/MyDrive/dataset/mix data/S004_Friction_1_[0]_20s\n",
            "[MoviePy] Writing audio in /content/drive/MyDrive/dataset/temp.wav\n"
          ]
        },
        {
          "output_type": "stream",
          "name": "stderr",
          "text": [
            "100%|██████████| 442/442 [00:00<00:00, 1168.62it/s]"
          ]
        },
        {
          "output_type": "stream",
          "name": "stdout",
          "text": [
            "[MoviePy] Done.\n"
          ]
        },
        {
          "output_type": "stream",
          "name": "stderr",
          "text": [
            "\n"
          ]
        },
        {
          "output_type": "stream",
          "name": "stdout",
          "text": [
            "/content/drive/MyDrive/dataset/mix data/S004_Move_1_[0]_20s\n",
            "[MoviePy] Writing audio in /content/drive/MyDrive/dataset/temp.wav\n"
          ]
        },
        {
          "output_type": "stream",
          "name": "stderr",
          "text": [
            "100%|██████████| 442/442 [00:00<00:00, 1203.69it/s]"
          ]
        },
        {
          "output_type": "stream",
          "name": "stdout",
          "text": [
            "[MoviePy] Done.\n"
          ]
        },
        {
          "output_type": "stream",
          "name": "stderr",
          "text": [
            "\n"
          ]
        },
        {
          "output_type": "stream",
          "name": "stdout",
          "text": [
            "torch.Size([4, 8, 1, 224, 224])\n",
            "600\n",
            "Loading S003_Rest_1_[0]_20s.mp4...\n",
            "Rest\n",
            "Loading S003_Friction_1_[0]_20s.mp4...\n",
            "Fric\n",
            "Loading S004_Friction_1_[0]_20s.mp4...\n",
            "Fric\n",
            "Loading S004_Move_1_[0]_20s.mp4...\n",
            "Move\n",
            "torch.Size([4, 6, 3, 224, 224])\n",
            "#0  loss:0.662499189376831\n",
            "#1  loss:0.5367356538772583\n",
            "#2  loss:0.5443142056465149\n",
            "#3  loss:0.6116458773612976\n",
            "#4  loss:0.42389875650405884\n",
            "#5  loss:0.4388059079647064\n",
            "#6  loss:0.4016101360321045\n",
            "#7  loss:0.4223463535308838\n",
            "#8  loss:0.35265690088272095\n",
            "#9  loss:0.3567877411842346\n",
            "#10  loss:0.34548982977867126\n",
            "#11  loss:0.3096274733543396\n",
            "#12  loss:0.2820807695388794\n",
            "#13  loss:0.2943570017814636\n",
            "#14  loss:0.2702029347419739\n",
            "/content/drive/MyDrive/dataset/mix data/S026_Pain_1_[0]_20s\n",
            "[MoviePy] Writing audio in /content/drive/MyDrive/dataset/temp.wav\n"
          ]
        },
        {
          "output_type": "stream",
          "name": "stderr",
          "text": [
            "100%|██████████| 442/442 [00:00<00:00, 504.79it/s]"
          ]
        },
        {
          "output_type": "stream",
          "name": "stdout",
          "text": [
            "[MoviePy] Done.\n"
          ]
        },
        {
          "output_type": "stream",
          "name": "stderr",
          "text": [
            "\n"
          ]
        },
        {
          "output_type": "stream",
          "name": "stdout",
          "text": [
            "/content/drive/MyDrive/dataset/mix data/S025_Pain_1_[0]_20s\n",
            "[MoviePy] Writing audio in /content/drive/MyDrive/dataset/temp.wav\n"
          ]
        },
        {
          "output_type": "stream",
          "name": "stderr",
          "text": [
            "100%|██████████| 442/442 [00:00<00:00, 1029.19it/s]"
          ]
        },
        {
          "output_type": "stream",
          "name": "stdout",
          "text": [
            "[MoviePy] Done.\n"
          ]
        },
        {
          "output_type": "stream",
          "name": "stderr",
          "text": [
            "\n"
          ]
        },
        {
          "output_type": "stream",
          "name": "stdout",
          "text": [
            "/content/drive/MyDrive/dataset/mix data/S030_Pain_1_[0]_20s\n",
            "[MoviePy] Writing audio in /content/drive/MyDrive/dataset/temp.wav\n"
          ]
        },
        {
          "output_type": "stream",
          "name": "stderr",
          "text": [
            "100%|██████████| 442/442 [00:00<00:00, 1399.24it/s]"
          ]
        },
        {
          "output_type": "stream",
          "name": "stdout",
          "text": [
            "[MoviePy] Done.\n"
          ]
        },
        {
          "output_type": "stream",
          "name": "stderr",
          "text": [
            "\n"
          ]
        },
        {
          "output_type": "stream",
          "name": "stdout",
          "text": [
            "/content/drive/MyDrive/dataset/mix data/S028_Pain_1_[0]_20s\n",
            "[MoviePy] Writing audio in /content/drive/MyDrive/dataset/temp.wav\n"
          ]
        },
        {
          "output_type": "stream",
          "name": "stderr",
          "text": [
            "100%|██████████| 442/442 [00:00<00:00, 1355.23it/s]"
          ]
        },
        {
          "output_type": "stream",
          "name": "stdout",
          "text": [
            "[MoviePy] Done.\n"
          ]
        },
        {
          "output_type": "stream",
          "name": "stderr",
          "text": [
            "\n"
          ]
        },
        {
          "output_type": "stream",
          "name": "stdout",
          "text": [
            "torch.Size([4, 8, 1, 224, 224])\n",
            "600\n",
            "Loading S026_Pain_1_[0]_20s.mp4...\n",
            "Pain\n",
            "Loading S025_Pain_1_[0]_20s.mp4...\n",
            "Pain\n",
            "Loading S030_Pain_1_[0]_20s.mp4...\n",
            "Pain\n",
            "Loading S028_Pain_1_[0]_20s.mp4...\n",
            "Pain\n",
            "torch.Size([4, 6, 3, 224, 224])\n",
            "#0  loss:0.9065759778022766\n",
            "#1  loss:0.8021986484527588\n",
            "#2  loss:0.6452558040618896\n",
            "#3  loss:0.588513970375061\n",
            "#4  loss:0.5697724223136902\n",
            "#5  loss:0.4710915982723236\n",
            "#6  loss:0.4661558270454407\n",
            "#7  loss:0.4954458177089691\n",
            "#8  loss:0.47309213876724243\n",
            "#9  loss:0.41952943801879883\n",
            "#10  loss:0.3623654246330261\n",
            "#11  loss:0.3622218072414398\n",
            "#12  loss:0.3871691823005676\n",
            "#13  loss:0.2804570198059082\n",
            "#14  loss:0.3315197825431824\n"
          ]
        }
      ]
    },
    {
      "cell_type": "markdown",
      "source": [
        "#PART 7 : 12-20, 64"
      ],
      "metadata": {
        "id": "8Wmb57uxMBtB"
      }
    },
    {
      "cell_type": "code",
      "source": [
        "# device = 'cuda'\n",
        "strl = [12, 70 , 16, 66, 20, 62, 24, 58, 28, 54, 32] 50, 36, 46, 40, 74, 82]\n",
        "endl = [16, 74 , 20, 70, 24, 66, 28, 62, 32, 58, 36] 46, 40, 50, 44, 78, 86]\n",
        "for i in range(len(strl)):\n",
        "  print(i)\n",
        "  PATH = '/content/drive/MyDrive/dataset/mix data/'\n",
        "  start = strl[i]\n",
        "  end = endl[i]\n",
        "  if start - end >4:\n",
        "    continue\n",
        "  audata , audlabel = audioextract(PATH,start,end)\n",
        "  vidata , vidlabel = vidextract(PATH,start,end)\n",
        "  # audata = audata.to(device)\n",
        "  # vidata = vidata.to(device)\n",
        "  if i == 0:\n",
        "    DIM = 224\n",
        "    IMAGE_SIZE = 224\n",
        "    PATCH_SIZE = 16\n",
        "    NUM_CLASSES = 2\n",
        "    NUM_FRAMES = 6\n",
        "    DEPTH = 12\n",
        "    HEADS = 8\n",
        "    DIM_HEAD = 64\n",
        "    ATTN_DROPOUT = 0.1\n",
        "    FF_DROPOUT = 0.1\n",
        "    ITERATIONS = 20\n",
        "    video_arc = TimeSformervid(dim = DIM, image_size = IMAGE_SIZE, patch_size = PATCH_SIZE, num_frames = NUM_FRAMES, num_classes = NUM_CLASSES, depth = DEPTH, heads = HEADS, dim_head = DIM_HEAD, attn_dropout = ATTN_DROPOUT, ff_dropout = FF_DROPOUT)\n",
        "    NUM_FRAMES = 8\n",
        "    audio_arc = TimeSformeraud(dim = DIM, image_size = IMAGE_SIZE, patch_size = PATCH_SIZE, num_frames = NUM_FRAMES, num_classes = NUM_CLASSES, depth = DEPTH, heads = HEADS, dim_head = DIM_HEAD, attn_dropout = ATTN_DROPOUT, ff_dropout = FF_DROPOUT)\n",
        "\n",
        "    comb = nn.Sequential(\n",
        "                nn.LayerNorm(2*DIM),\n",
        "                nn.Linear(2*DIM, 2),\n",
        "                nn.Softmax(dim = 1)\n",
        "            )\n",
        "    model = ParentModel(video_arc, audio_arc, comb)\n",
        "    #load older\n",
        "    \n",
        "    PATH = '/content/drive/MyDrive/dataset/paindata6.pth'\n",
        "    chkpnt = torch.load(PATH)\n",
        "    model.load_state_dict(chkpnt)\n",
        "    \n",
        "  # model = model.to(device)\n",
        "\n",
        "  loss_fn = torch.nn.BCELoss()\n",
        "  labels = torch.FloatTensor(vidlabel)#.to(device)#[[0.4, 0.6] for i in range(len(video))]) # Add here your own labels\n",
        "\n",
        "  learning_rate = 1e-4\n",
        "  for t in range(15):#ITERATIONS):\n",
        "    y_pred = model(vidata , audata)#.to(device)\n",
        "\n",
        "    loss = loss_fn(y_pred, torch.tensor(labels))\n",
        "    print(\"#\" + str(t), \" loss:\" + str(loss.item()))\n",
        "    \n",
        "    model.zero_grad()\n",
        "    loss.backward()\n",
        "    with torch.no_grad():\n",
        "        for param in model.parameters():\n",
        "            param -= learning_rate * param.grad\n",
        "  PATH = '/content/drive/MyDrive/dataset/paindata7.pth'\n",
        "  torch.save(model.state_dict(), PATH)"
      ],
      "metadata": {
        "colab": {
          "base_uri": "https://localhost:8080/",
          "height": 1000
        },
        "id": "L3i8PFFgLxAh",
        "outputId": "f3d8bbae-3a00-4423-b101-b3e88b4185a8"
      },
      "execution_count": null,
      "outputs": [
        {
          "output_type": "stream",
          "name": "stdout",
          "text": [
            "0\n",
            "/content/drive/MyDrive/dataset/mix data/S004_Rest_1_[1]_20s\n",
            "[MoviePy] Writing audio in /content/drive/MyDrive/dataset/temp.wav\n"
          ]
        },
        {
          "output_type": "stream",
          "name": "stderr",
          "text": [
            "100%|██████████| 442/442 [00:00<00:00, 1166.07it/s]"
          ]
        },
        {
          "output_type": "stream",
          "name": "stdout",
          "text": [
            "[MoviePy] Done.\n"
          ]
        },
        {
          "output_type": "stream",
          "name": "stderr",
          "text": [
            "\n"
          ]
        },
        {
          "output_type": "stream",
          "name": "stdout",
          "text": [
            "/content/drive/MyDrive/dataset/mix data/S004_Rest_2_[0]_20s\n",
            "[MoviePy] Writing audio in /content/drive/MyDrive/dataset/temp.wav\n"
          ]
        },
        {
          "output_type": "stream",
          "name": "stderr",
          "text": [
            "100%|██████████| 442/442 [00:00<00:00, 1681.29it/s]"
          ]
        },
        {
          "output_type": "stream",
          "name": "stdout",
          "text": [
            "[MoviePy] Done.\n"
          ]
        },
        {
          "output_type": "stream",
          "name": "stderr",
          "text": [
            "\n"
          ]
        },
        {
          "output_type": "stream",
          "name": "stdout",
          "text": [
            "/content/drive/MyDrive/dataset/mix data/S004_Rest_1_[0]_20s\n",
            "[MoviePy] Writing audio in /content/drive/MyDrive/dataset/temp.wav\n"
          ]
        },
        {
          "output_type": "stream",
          "name": "stderr",
          "text": [
            "100%|██████████| 442/442 [00:00<00:00, 1479.85it/s]"
          ]
        },
        {
          "output_type": "stream",
          "name": "stdout",
          "text": [
            "[MoviePy] Done.\n"
          ]
        },
        {
          "output_type": "stream",
          "name": "stderr",
          "text": [
            "\n"
          ]
        },
        {
          "output_type": "stream",
          "name": "stdout",
          "text": [
            "/content/drive/MyDrive/dataset/mix data/S005_Friction_1_[0]_20s\n",
            "[MoviePy] Writing audio in /content/drive/MyDrive/dataset/temp.wav\n"
          ]
        },
        {
          "output_type": "stream",
          "name": "stderr",
          "text": [
            "100%|██████████| 442/442 [00:00<00:00, 1566.40it/s]"
          ]
        },
        {
          "output_type": "stream",
          "name": "stdout",
          "text": [
            "[MoviePy] Done.\n"
          ]
        },
        {
          "output_type": "stream",
          "name": "stderr",
          "text": [
            "\n"
          ]
        },
        {
          "output_type": "stream",
          "name": "stdout",
          "text": [
            "torch.Size([4, 8, 1, 224, 224])\n",
            "600\n",
            "Loading S004_Rest_1_[1]_20s.mp4...\n",
            "Rest\n",
            "Loading S004_Rest_2_[0]_20s.mp4...\n",
            "Rest\n",
            "Loading S004_Rest_1_[0]_20s.mp4...\n",
            "Rest\n",
            "Loading S005_Friction_1_[0]_20s.mp4...\n",
            "Fric\n",
            "torch.Size([4, 6, 3, 224, 224])\n",
            "#0  loss:1.433499813079834\n",
            "#1  loss:1.2499706745147705\n",
            "#2  loss:1.1563366651535034\n",
            "#3  loss:1.0097448825836182\n",
            "#4  loss:0.9629115462303162\n",
            "#5  loss:0.8171050548553467\n",
            "#6  loss:0.8501230478286743\n",
            "#7  loss:0.7230168581008911\n",
            "#8  loss:0.6521947383880615\n",
            "#9  loss:0.6534780859947205\n",
            "#10  loss:0.6663811206817627\n",
            "#11  loss:0.543035626411438\n",
            "#12  loss:0.49839046597480774\n",
            "#13  loss:0.4370185434818268\n",
            "#14  loss:0.46483248472213745\n",
            "1\n",
            "/content/drive/MyDrive/dataset/mix data/S021_Pain_1_[0]_20s\n",
            "[MoviePy] Writing audio in /content/drive/MyDrive/dataset/temp.wav\n"
          ]
        },
        {
          "output_type": "stream",
          "name": "stderr",
          "text": [
            "100%|██████████| 442/442 [00:00<00:00, 1321.97it/s]"
          ]
        },
        {
          "output_type": "stream",
          "name": "stdout",
          "text": [
            "[MoviePy] Done.\n"
          ]
        },
        {
          "output_type": "stream",
          "name": "stderr",
          "text": [
            "\n"
          ]
        },
        {
          "output_type": "stream",
          "name": "stdout",
          "text": [
            "/content/drive/MyDrive/dataset/mix data/S022_Pain_1_[0]_20s\n",
            "[MoviePy] Writing audio in /content/drive/MyDrive/dataset/temp.wav\n"
          ]
        },
        {
          "output_type": "stream",
          "name": "stderr",
          "text": [
            "100%|██████████| 442/442 [00:00<00:00, 1486.58it/s]\n"
          ]
        },
        {
          "output_type": "stream",
          "name": "stdout",
          "text": [
            "[MoviePy] Done.\n",
            "/content/drive/MyDrive/dataset/mix data/S027_Pain_1_[0]_20s\n",
            "[MoviePy] Writing audio in /content/drive/MyDrive/dataset/temp.wav\n"
          ]
        },
        {
          "output_type": "stream",
          "name": "stderr",
          "text": [
            "100%|██████████| 442/442 [00:00<00:00, 1388.83it/s]"
          ]
        },
        {
          "output_type": "stream",
          "name": "stdout",
          "text": [
            "[MoviePy] Done.\n"
          ]
        },
        {
          "output_type": "stream",
          "name": "stderr",
          "text": [
            "\n"
          ]
        },
        {
          "output_type": "stream",
          "name": "stdout",
          "text": [
            "/content/drive/MyDrive/dataset/mix data/S024_Pain_1_[0]_20s\n",
            "[MoviePy] Writing audio in /content/drive/MyDrive/dataset/temp.wav\n"
          ]
        },
        {
          "output_type": "stream",
          "name": "stderr",
          "text": [
            "100%|██████████| 442/442 [00:00<00:00, 1455.18it/s]\n"
          ]
        },
        {
          "output_type": "stream",
          "name": "stdout",
          "text": [
            "[MoviePy] Done.\n",
            "torch.Size([4, 8, 1, 224, 224])\n",
            "600\n",
            "Loading S021_Pain_1_[0]_20s.mp4...\n",
            "Pain\n",
            "Loading S022_Pain_1_[0]_20s.mp4...\n",
            "Pain\n",
            "Loading S027_Pain_1_[0]_20s.mp4...\n",
            "Pain\n",
            "Loading S024_Pain_1_[0]_20s.mp4...\n",
            "Pain\n",
            "torch.Size([4, 6, 3, 224, 224])\n",
            "#0  loss:1.0381439924240112\n",
            "#1  loss:0.9025654792785645\n",
            "#2  loss:0.8863931894302368\n",
            "#3  loss:0.9418429136276245\n",
            "#4  loss:0.6894023418426514\n",
            "#5  loss:0.6540811061859131\n",
            "#6  loss:0.6797646880149841\n",
            "#7  loss:0.5320309400558472\n",
            "#8  loss:0.5753197073936462\n",
            "#9  loss:0.523290753364563\n",
            "#10  loss:0.5689755082130432\n",
            "#11  loss:0.541739821434021\n",
            "#12  loss:0.44803130626678467\n",
            "#13  loss:0.3834388554096222\n",
            "#14  loss:0.41406258940696716\n",
            "2\n",
            "/content/drive/MyDrive/dataset/mix data/S005_Rest_1_[0]_20s\n",
            "[MoviePy] Writing audio in /content/drive/MyDrive/dataset/temp.wav\n"
          ]
        },
        {
          "output_type": "stream",
          "name": "stderr",
          "text": [
            "100%|██████████| 442/442 [00:00<00:00, 1719.09it/s]"
          ]
        },
        {
          "output_type": "stream",
          "name": "stdout",
          "text": [
            "[MoviePy] Done.\n"
          ]
        },
        {
          "output_type": "stream",
          "name": "stderr",
          "text": [
            "\n"
          ]
        },
        {
          "output_type": "stream",
          "name": "stdout",
          "text": [
            "/content/drive/MyDrive/dataset/mix data/S005_Rest_1_[1]_20s\n",
            "[MoviePy] Writing audio in /content/drive/MyDrive/dataset/temp.wav\n"
          ]
        },
        {
          "output_type": "stream",
          "name": "stderr",
          "text": [
            "100%|██████████| 442/442 [00:00<00:00, 1596.01it/s]"
          ]
        },
        {
          "output_type": "stream",
          "name": "stdout",
          "text": [
            "[MoviePy] Done.\n"
          ]
        },
        {
          "output_type": "stream",
          "name": "stderr",
          "text": [
            "\n"
          ]
        },
        {
          "output_type": "stream",
          "name": "stdout",
          "text": [
            "/content/drive/MyDrive/dataset/mix data/S005_Rest_2_[0]_20s\n",
            "[MoviePy] Writing audio in /content/drive/MyDrive/dataset/temp.wav\n"
          ]
        },
        {
          "output_type": "stream",
          "name": "stderr",
          "text": [
            "100%|██████████| 442/442 [00:00<00:00, 1586.49it/s]"
          ]
        },
        {
          "output_type": "stream",
          "name": "stdout",
          "text": [
            "[MoviePy] Done.\n"
          ]
        },
        {
          "output_type": "stream",
          "name": "stderr",
          "text": [
            "\n"
          ]
        },
        {
          "output_type": "stream",
          "name": "stdout",
          "text": [
            "/content/drive/MyDrive/dataset/mix data/S006_Friction_1_[0]_20s\n",
            "[MoviePy] Writing audio in /content/drive/MyDrive/dataset/temp.wav\n"
          ]
        },
        {
          "output_type": "stream",
          "name": "stderr",
          "text": [
            "100%|██████████| 442/442 [00:00<00:00, 1600.05it/s]"
          ]
        },
        {
          "output_type": "stream",
          "name": "stdout",
          "text": [
            "[MoviePy] Done.\n"
          ]
        },
        {
          "output_type": "stream",
          "name": "stderr",
          "text": [
            "\n"
          ]
        },
        {
          "output_type": "stream",
          "name": "stdout",
          "text": [
            "torch.Size([4, 8, 1, 224, 224])\n",
            "600\n",
            "Loading S005_Rest_1_[0]_20s.mp4...\n",
            "Rest\n",
            "Loading S005_Rest_1_[1]_20s.mp4...\n",
            "Rest\n",
            "Loading S005_Rest_2_[0]_20s.mp4...\n",
            "Rest\n",
            "Loading S006_Friction_1_[0]_20s.mp4...\n",
            "Fric\n",
            "torch.Size([4, 6, 3, 224, 224])\n",
            "#0  loss:1.0829002857208252\n",
            "#1  loss:0.9804603457450867\n",
            "#2  loss:0.8767086267471313\n",
            "#3  loss:1.012722134590149\n",
            "#4  loss:0.8645591735839844\n",
            "#5  loss:0.7808062434196472\n",
            "#6  loss:0.7729521989822388\n",
            "#7  loss:0.693422257900238\n",
            "#8  loss:0.5934010744094849\n",
            "#9  loss:0.6052218079566956\n",
            "#10  loss:0.5326701402664185\n",
            "#11  loss:0.5166196227073669\n",
            "#12  loss:0.5141865015029907\n",
            "#13  loss:0.41560083627700806\n",
            "#14  loss:0.4293217957019806\n",
            "3\n",
            "/content/drive/MyDrive/dataset/mix data/S019_Pain_1_[0]_20s\n",
            "[MoviePy] Writing audio in /content/drive/MyDrive/dataset/temp.wav\n"
          ]
        },
        {
          "output_type": "stream",
          "name": "stderr",
          "text": [
            "100%|██████████| 442/442 [00:00<00:00, 1147.24it/s]"
          ]
        },
        {
          "output_type": "stream",
          "name": "stdout",
          "text": [
            "[MoviePy] Done.\n"
          ]
        },
        {
          "output_type": "stream",
          "name": "stderr",
          "text": [
            "\n"
          ]
        },
        {
          "output_type": "stream",
          "name": "stdout",
          "text": [
            "/content/drive/MyDrive/dataset/mix data/S018_Pain_1_[0]_20s\n",
            "[MoviePy] Writing audio in /content/drive/MyDrive/dataset/temp.wav\n"
          ]
        },
        {
          "output_type": "stream",
          "name": "stderr",
          "text": [
            "100%|██████████| 442/442 [00:00<00:00, 1369.83it/s]"
          ]
        },
        {
          "output_type": "stream",
          "name": "stdout",
          "text": [
            "[MoviePy] Done.\n"
          ]
        },
        {
          "output_type": "stream",
          "name": "stderr",
          "text": [
            "\n"
          ]
        },
        {
          "output_type": "stream",
          "name": "stdout",
          "text": [
            "/content/drive/MyDrive/dataset/mix data/S020_Pain_1_[0]_20s\n",
            "[MoviePy] Writing audio in /content/drive/MyDrive/dataset/temp.wav\n"
          ]
        },
        {
          "output_type": "stream",
          "name": "stderr",
          "text": [
            "100%|██████████| 442/442 [00:00<00:00, 996.76it/s]"
          ]
        },
        {
          "output_type": "stream",
          "name": "stdout",
          "text": [
            "[MoviePy] Done.\n"
          ]
        },
        {
          "output_type": "stream",
          "name": "stderr",
          "text": [
            "\n"
          ]
        },
        {
          "output_type": "stream",
          "name": "stdout",
          "text": [
            "/content/drive/MyDrive/dataset/mix data/S023_Pain_1_[0]_20s\n",
            "[MoviePy] Writing audio in /content/drive/MyDrive/dataset/temp.wav\n"
          ]
        },
        {
          "output_type": "stream",
          "name": "stderr",
          "text": [
            "100%|██████████| 442/442 [00:00<00:00, 1627.55it/s]"
          ]
        },
        {
          "output_type": "stream",
          "name": "stdout",
          "text": [
            "[MoviePy] Done.\n"
          ]
        },
        {
          "output_type": "stream",
          "name": "stderr",
          "text": [
            "\n"
          ]
        },
        {
          "output_type": "stream",
          "name": "stdout",
          "text": [
            "torch.Size([4, 8, 1, 224, 224])\n",
            "600\n",
            "Loading S019_Pain_1_[0]_20s.mp4...\n",
            "Pain\n",
            "Loading S018_Pain_1_[0]_20s.mp4...\n",
            "Pain\n",
            "Loading S020_Pain_1_[0]_20s.mp4...\n",
            "Pain\n",
            "Loading S023_Pain_1_[0]_20s.mp4...\n",
            "Pain\n",
            "torch.Size([4, 6, 3, 224, 224])\n",
            "#0  loss:1.123525857925415\n",
            "#1  loss:1.0539052486419678\n",
            "#2  loss:0.9110148549079895\n",
            "#3  loss:0.8812445998191833\n",
            "#4  loss:0.8336328268051147\n",
            "#5  loss:0.7445273995399475\n",
            "#6  loss:0.719226598739624\n",
            "#7  loss:0.7169849872589111\n",
            "#8  loss:0.61980140209198\n",
            "#9  loss:0.5340981483459473\n",
            "#10  loss:0.5386131405830383\n",
            "#11  loss:0.46411848068237305\n",
            "#12  loss:0.4873685836791992\n",
            "#13  loss:0.42298805713653564\n",
            "#14  loss:0.3895713686943054\n",
            "4\n",
            "/content/drive/MyDrive/dataset/mix data/S005_Rest_2_[1]_20s\n",
            "[MoviePy] Writing audio in /content/drive/MyDrive/dataset/temp.wav\n"
          ]
        },
        {
          "output_type": "stream",
          "name": "stderr",
          "text": [
            "100%|██████████| 442/442 [00:00<00:00, 1612.38it/s]"
          ]
        },
        {
          "output_type": "stream",
          "name": "stdout",
          "text": [
            "[MoviePy] Done.\n"
          ]
        },
        {
          "output_type": "stream",
          "name": "stderr",
          "text": [
            "\n"
          ]
        },
        {
          "output_type": "stream",
          "name": "stdout",
          "text": [
            "/content/drive/MyDrive/dataset/mix data/S006_Rest_1_[0]_20s\n",
            "[MoviePy] Writing audio in /content/drive/MyDrive/dataset/temp.wav\n"
          ]
        },
        {
          "output_type": "stream",
          "name": "stderr",
          "text": [
            "100%|██████████| 442/442 [00:00<00:00, 1261.95it/s]"
          ]
        },
        {
          "output_type": "stream",
          "name": "stdout",
          "text": [
            "[MoviePy] Done.\n"
          ]
        },
        {
          "output_type": "stream",
          "name": "stderr",
          "text": [
            "\n"
          ]
        },
        {
          "output_type": "stream",
          "name": "stdout",
          "text": [
            "/content/drive/MyDrive/dataset/mix data/S006_Rest_2_[0]_20s\n",
            "[MoviePy] Writing audio in /content/drive/MyDrive/dataset/temp.wav\n"
          ]
        },
        {
          "output_type": "stream",
          "name": "stderr",
          "text": [
            "100%|██████████| 442/442 [00:00<00:00, 1729.41it/s]"
          ]
        },
        {
          "output_type": "stream",
          "name": "stdout",
          "text": [
            "[MoviePy] Done.\n"
          ]
        },
        {
          "output_type": "stream",
          "name": "stderr",
          "text": [
            "\n"
          ]
        },
        {
          "output_type": "stream",
          "name": "stdout",
          "text": [
            "/content/drive/MyDrive/dataset/mix data/S007_Friction_1_[0]_20s\n",
            "[MoviePy] Writing audio in /content/drive/MyDrive/dataset/temp.wav\n"
          ]
        },
        {
          "output_type": "stream",
          "name": "stderr",
          "text": [
            "100%|██████████| 442/442 [00:00<00:00, 944.60it/s]"
          ]
        },
        {
          "output_type": "stream",
          "name": "stdout",
          "text": [
            "[MoviePy] Done.\n"
          ]
        },
        {
          "output_type": "stream",
          "name": "stderr",
          "text": [
            "\n"
          ]
        },
        {
          "output_type": "stream",
          "name": "stdout",
          "text": [
            "torch.Size([4, 8, 1, 224, 224])\n",
            "600\n",
            "Loading S005_Rest_2_[1]_20s.mp4...\n",
            "Rest\n",
            "Loading S006_Rest_1_[0]_20s.mp4...\n",
            "Rest\n",
            "Loading S006_Rest_2_[0]_20s.mp4...\n",
            "Rest\n",
            "Loading S007_Friction_1_[0]_20s.mp4...\n",
            "Fric\n",
            "torch.Size([4, 6, 3, 224, 224])\n",
            "#0  loss:1.2120076417922974\n",
            "#1  loss:1.0863423347473145\n",
            "#2  loss:1.0512696504592896\n",
            "#3  loss:0.9637564420700073\n",
            "#4  loss:0.8660665154457092\n",
            "#5  loss:0.7116283774375916\n",
            "#6  loss:0.7571552991867065\n",
            "#7  loss:0.7142188549041748\n",
            "#8  loss:0.5948639512062073\n",
            "#9  loss:0.5470468997955322\n",
            "#10  loss:0.5211947560310364\n",
            "#11  loss:0.5562693476676941\n",
            "#12  loss:0.522335946559906\n",
            "#13  loss:0.42878618836402893\n",
            "#14  loss:0.39101284742355347\n",
            "5\n",
            "/content/drive/MyDrive/dataset/mix data/S016_Pain_1_[0]_20s\n",
            "[MoviePy] Writing audio in /content/drive/MyDrive/dataset/temp.wav\n"
          ]
        },
        {
          "output_type": "stream",
          "name": "stderr",
          "text": [
            "100%|██████████| 442/442 [00:00<00:00, 1429.85it/s]"
          ]
        },
        {
          "output_type": "stream",
          "name": "stdout",
          "text": [
            "[MoviePy] Done.\n"
          ]
        },
        {
          "output_type": "stream",
          "name": "stderr",
          "text": [
            "\n"
          ]
        },
        {
          "output_type": "stream",
          "name": "stdout",
          "text": [
            "/content/drive/MyDrive/dataset/mix data/S015_Pain_1_[0]_20s\n",
            "[MoviePy] Writing audio in /content/drive/MyDrive/dataset/temp.wav\n"
          ]
        },
        {
          "output_type": "stream",
          "name": "stderr",
          "text": [
            "100%|██████████| 442/442 [00:00<00:00, 1275.05it/s]"
          ]
        },
        {
          "output_type": "stream",
          "name": "stdout",
          "text": [
            "[MoviePy] Done.\n"
          ]
        },
        {
          "output_type": "stream",
          "name": "stderr",
          "text": [
            "\n"
          ]
        },
        {
          "output_type": "stream",
          "name": "stdout",
          "text": [
            "/content/drive/MyDrive/dataset/mix data/S014_Pain_1_[0]_20s\n",
            "[MoviePy] Writing audio in /content/drive/MyDrive/dataset/temp.wav\n"
          ]
        },
        {
          "output_type": "stream",
          "name": "stderr",
          "text": [
            "100%|██████████| 442/442 [00:00<00:00, 1472.55it/s]"
          ]
        },
        {
          "output_type": "stream",
          "name": "stdout",
          "text": [
            "[MoviePy] Done.\n"
          ]
        },
        {
          "output_type": "stream",
          "name": "stderr",
          "text": [
            "\n"
          ]
        },
        {
          "output_type": "stream",
          "name": "stdout",
          "text": [
            "/content/drive/MyDrive/dataset/mix data/S017_Pain_1_[0]_20s\n",
            "[MoviePy] Writing audio in /content/drive/MyDrive/dataset/temp.wav\n"
          ]
        },
        {
          "output_type": "stream",
          "name": "stderr",
          "text": [
            "100%|██████████| 442/442 [00:00<00:00, 1357.00it/s]"
          ]
        },
        {
          "output_type": "stream",
          "name": "stdout",
          "text": [
            "[MoviePy] Done.\n"
          ]
        },
        {
          "output_type": "stream",
          "name": "stderr",
          "text": [
            "\n"
          ]
        },
        {
          "output_type": "stream",
          "name": "stdout",
          "text": [
            "torch.Size([4, 8, 1, 224, 224])\n",
            "600\n",
            "Loading S016_Pain_1_[0]_20s.mp4...\n",
            "Pain\n",
            "Loading S015_Pain_1_[0]_20s.mp4...\n",
            "Pain\n",
            "Loading S014_Pain_1_[0]_20s.mp4...\n",
            "Pain\n",
            "Loading S017_Pain_1_[0]_20s.mp4...\n",
            "Pain\n",
            "torch.Size([4, 6, 3, 224, 224])\n",
            "#0  loss:1.159324049949646\n",
            "#1  loss:1.1399418115615845\n",
            "#2  loss:0.9522726535797119\n",
            "#3  loss:0.88654625415802\n",
            "#4  loss:0.8731930255889893\n",
            "#5  loss:0.818198025226593\n",
            "#6  loss:0.7274972796440125\n",
            "#7  loss:0.727620005607605\n",
            "#8  loss:0.6564790606498718\n",
            "#9  loss:0.6174314618110657\n",
            "#10  loss:0.525890052318573\n",
            "#11  loss:0.4644288718700409\n",
            "#12  loss:0.4863088130950928\n",
            "#13  loss:0.43121373653411865\n",
            "#14  loss:0.4270649552345276\n",
            "6\n",
            "/content/drive/MyDrive/dataset/mix data/S007_Rest_1_[0]_20s\n",
            "[MoviePy] Writing audio in /content/drive/MyDrive/dataset/temp.wav\n"
          ]
        },
        {
          "output_type": "stream",
          "name": "stderr",
          "text": [
            "100%|██████████| 442/442 [00:00<00:00, 1442.53it/s]"
          ]
        },
        {
          "output_type": "stream",
          "name": "stdout",
          "text": [
            "[MoviePy] Done.\n"
          ]
        },
        {
          "output_type": "stream",
          "name": "stderr",
          "text": [
            "\n"
          ]
        },
        {
          "output_type": "stream",
          "name": "stdout",
          "text": [
            "/content/drive/MyDrive/dataset/mix data/S007_Move_2_[0]_20s\n",
            "[MoviePy] Writing audio in /content/drive/MyDrive/dataset/temp.wav\n"
          ]
        },
        {
          "output_type": "stream",
          "name": "stderr",
          "text": [
            "100%|██████████| 442/442 [00:00<00:00, 1349.90it/s]"
          ]
        },
        {
          "output_type": "stream",
          "name": "stdout",
          "text": [
            "[MoviePy] Done.\n"
          ]
        },
        {
          "output_type": "stream",
          "name": "stderr",
          "text": [
            "\n"
          ]
        },
        {
          "output_type": "stream",
          "name": "stdout",
          "text": [
            "/content/drive/MyDrive/dataset/mix data/S007_Rest_1_[1]_20s\n",
            "[MoviePy] Writing audio in /content/drive/MyDrive/dataset/temp.wav\n"
          ]
        },
        {
          "output_type": "stream",
          "name": "stderr",
          "text": [
            "100%|██████████| 442/442 [00:00<00:00, 1289.95it/s]"
          ]
        },
        {
          "output_type": "stream",
          "name": "stdout",
          "text": [
            "[MoviePy] Done.\n"
          ]
        },
        {
          "output_type": "stream",
          "name": "stderr",
          "text": [
            "\n"
          ]
        },
        {
          "output_type": "stream",
          "name": "stdout",
          "text": [
            "/content/drive/MyDrive/dataset/mix data/S008_Rest_1_[0]_20s\n",
            "[MoviePy] Writing audio in /content/drive/MyDrive/dataset/temp.wav\n"
          ]
        },
        {
          "output_type": "stream",
          "name": "stderr",
          "text": [
            "100%|██████████| 442/442 [00:00<00:00, 1647.68it/s]"
          ]
        },
        {
          "output_type": "stream",
          "name": "stdout",
          "text": [
            "[MoviePy] Done.\n"
          ]
        },
        {
          "output_type": "stream",
          "name": "stderr",
          "text": [
            "\n"
          ]
        },
        {
          "output_type": "stream",
          "name": "stdout",
          "text": [
            "torch.Size([4, 8, 1, 224, 224])\n",
            "600\n",
            "Loading S007_Rest_1_[0]_20s.mp4...\n",
            "Rest\n",
            "Loading S007_Move_2_[0]_20s.mp4...\n",
            "Move\n",
            "Loading S007_Rest_1_[1]_20s.mp4...\n",
            "Rest\n",
            "Loading S008_Rest_1_[0]_20s.mp4...\n",
            "Rest\n",
            "torch.Size([4, 6, 3, 224, 224])\n",
            "#0  loss:1.2847234010696411\n",
            "#1  loss:0.9507646560668945\n",
            "#2  loss:1.1455323696136475\n",
            "#3  loss:0.9293540716171265\n",
            "#4  loss:0.8508387207984924\n",
            "#5  loss:0.8265953063964844\n",
            "#6  loss:0.7097329497337341\n",
            "#7  loss:0.5830767154693604\n",
            "#8  loss:0.6170940399169922\n",
            "#9  loss:0.5008040070533752\n",
            "#10  loss:0.5452964901924133\n",
            "#11  loss:0.5018748641014099\n",
            "#12  loss:0.4727466404438019\n",
            "#13  loss:0.42220646142959595\n",
            "#14  loss:0.3924148976802826\n",
            "7\n",
            "/content/drive/MyDrive/dataset/mix data/S012_Pain_1_[0]_20s\n",
            "[MoviePy] Writing audio in /content/drive/MyDrive/dataset/temp.wav\n"
          ]
        },
        {
          "output_type": "stream",
          "name": "stderr",
          "text": [
            "100%|██████████| 442/442 [00:00<00:00, 1283.19it/s]"
          ]
        },
        {
          "output_type": "stream",
          "name": "stdout",
          "text": [
            "[MoviePy] Done.\n"
          ]
        },
        {
          "output_type": "stream",
          "name": "stderr",
          "text": [
            "\n"
          ]
        },
        {
          "output_type": "stream",
          "name": "stdout",
          "text": [
            "/content/drive/MyDrive/dataset/mix data/S013_Pain_1_[0]_20s\n",
            "[MoviePy] Writing audio in /content/drive/MyDrive/dataset/temp.wav\n"
          ]
        },
        {
          "output_type": "stream",
          "name": "stderr",
          "text": [
            "100%|██████████| 442/442 [00:00<00:00, 1270.89it/s]"
          ]
        },
        {
          "output_type": "stream",
          "name": "stdout",
          "text": [
            "[MoviePy] Done.\n"
          ]
        },
        {
          "output_type": "stream",
          "name": "stderr",
          "text": [
            "\n"
          ]
        },
        {
          "output_type": "stream",
          "name": "stdout",
          "text": [
            "/content/drive/MyDrive/dataset/mix data/S011_Pain_1_[0]_20s\n",
            "[MoviePy] Writing audio in /content/drive/MyDrive/dataset/temp.wav\n"
          ]
        },
        {
          "output_type": "stream",
          "name": "stderr",
          "text": [
            "100%|██████████| 442/442 [00:00<00:00, 1573.56it/s]"
          ]
        },
        {
          "output_type": "stream",
          "name": "stdout",
          "text": [
            "[MoviePy] Done.\n"
          ]
        },
        {
          "output_type": "stream",
          "name": "stderr",
          "text": [
            "\n"
          ]
        },
        {
          "output_type": "stream",
          "name": "stdout",
          "text": [
            "/content/drive/MyDrive/dataset/mix data/S010_Pain_1_[0]_20s\n",
            "[MoviePy] Writing audio in /content/drive/MyDrive/dataset/temp.wav\n"
          ]
        },
        {
          "output_type": "stream",
          "name": "stderr",
          "text": [
            "100%|██████████| 442/442 [00:00<00:00, 1426.01it/s]"
          ]
        },
        {
          "output_type": "stream",
          "name": "stdout",
          "text": [
            "[MoviePy] Done.\n"
          ]
        },
        {
          "output_type": "stream",
          "name": "stderr",
          "text": [
            "\n"
          ]
        },
        {
          "output_type": "stream",
          "name": "stdout",
          "text": [
            "torch.Size([4, 8, 1, 224, 224])\n",
            "600\n",
            "Loading S012_Pain_1_[0]_20s.mp4...\n",
            "Pain\n",
            "Loading S013_Pain_1_[0]_20s.mp4...\n",
            "Pain\n",
            "Loading S011_Pain_1_[0]_20s.mp4...\n",
            "Pain\n",
            "Loading S010_Pain_1_[0]_20s.mp4...\n",
            "Pain\n",
            "torch.Size([4, 6, 3, 224, 224])\n",
            "#0  loss:1.33633291721344\n",
            "#1  loss:1.1331870555877686\n",
            "#2  loss:1.0033258199691772\n",
            "#3  loss:0.922423243522644\n",
            "#4  loss:0.8221501111984253\n",
            "#5  loss:0.6831638813018799\n",
            "#6  loss:0.6695775985717773\n",
            "#7  loss:0.6205542683601379\n",
            "#8  loss:0.6151275634765625\n",
            "#9  loss:0.6091098189353943\n",
            "#10  loss:0.46502628922462463\n",
            "#11  loss:0.4691495895385742\n",
            "#12  loss:0.47883498668670654\n",
            "#13  loss:0.39160141348838806\n",
            "#14  loss:0.4116426408290863\n",
            "8\n",
            "/content/drive/MyDrive/dataset/mix data/S008_Move_1_[0]_20s\n",
            "[MoviePy] Writing audio in /content/drive/MyDrive/dataset/temp.wav\n"
          ]
        },
        {
          "output_type": "stream",
          "name": "stderr",
          "text": [
            "100%|██████████| 442/442 [00:00<00:00, 1603.06it/s]"
          ]
        },
        {
          "output_type": "stream",
          "name": "stdout",
          "text": [
            "[MoviePy] Done.\n"
          ]
        },
        {
          "output_type": "stream",
          "name": "stderr",
          "text": [
            "\n"
          ]
        },
        {
          "output_type": "stream",
          "name": "stdout",
          "text": [
            "/content/drive/MyDrive/dataset/mix data/S008_Friction_1_[0]_20s\n",
            "[MoviePy] Writing audio in /content/drive/MyDrive/dataset/temp.wav\n"
          ]
        },
        {
          "output_type": "stream",
          "name": "stderr",
          "text": [
            "100%|██████████| 442/442 [00:00<00:00, 1617.41it/s]"
          ]
        },
        {
          "output_type": "stream",
          "name": "stdout",
          "text": [
            "[MoviePy] Done.\n"
          ]
        },
        {
          "output_type": "stream",
          "name": "stderr",
          "text": [
            "\n"
          ]
        },
        {
          "output_type": "stream",
          "name": "stdout",
          "text": [
            "/content/drive/MyDrive/dataset/mix data/S009_Friction_1_[0]_20s\n",
            "[MoviePy] Writing audio in /content/drive/MyDrive/dataset/temp.wav\n"
          ]
        },
        {
          "output_type": "stream",
          "name": "stderr",
          "text": [
            "100%|██████████| 442/442 [00:00<00:00, 1314.78it/s]"
          ]
        },
        {
          "output_type": "stream",
          "name": "stdout",
          "text": [
            "[MoviePy] Done.\n"
          ]
        },
        {
          "output_type": "stream",
          "name": "stderr",
          "text": [
            "\n"
          ]
        },
        {
          "output_type": "stream",
          "name": "stdout",
          "text": [
            "/content/drive/MyDrive/dataset/mix data/S009_Rest_1_[0]_20s\n",
            "[MoviePy] Writing audio in /content/drive/MyDrive/dataset/temp.wav\n"
          ]
        },
        {
          "output_type": "stream",
          "name": "stderr",
          "text": [
            "100%|██████████| 442/442 [00:00<00:00, 1556.41it/s]\n"
          ]
        },
        {
          "output_type": "stream",
          "name": "stdout",
          "text": [
            "[MoviePy] Done.\n",
            "torch.Size([4, 8, 1, 224, 224])\n",
            "600\n",
            "Loading S008_Move_1_[0]_20s.mp4...\n",
            "Move\n",
            "Loading S008_Friction_1_[0]_20s.mp4...\n",
            "Fric\n",
            "Loading S009_Friction_1_[0]_20s.mp4...\n",
            "Fric\n",
            "Loading S009_Rest_1_[0]_20s.mp4...\n",
            "Rest\n",
            "torch.Size([4, 6, 3, 224, 224])\n",
            "#0  loss:1.1734391450881958\n",
            "#1  loss:1.015866756439209\n",
            "#2  loss:0.9982698559761047\n",
            "#3  loss:0.9305891990661621\n",
            "#4  loss:0.8649616837501526\n",
            "#5  loss:0.7638093829154968\n",
            "#6  loss:0.7124914526939392\n",
            "#7  loss:0.6152368783950806\n",
            "#8  loss:0.6321307420730591\n",
            "#9  loss:0.558129608631134\n",
            "#10  loss:0.5632964968681335\n",
            "#11  loss:0.5038645267486572\n",
            "#12  loss:0.44649362564086914\n",
            "#13  loss:0.4171157777309418\n",
            "#14  loss:0.4433036744594574\n",
            "9\n",
            "/content/drive/MyDrive/dataset/mix data/S007_Pain_1_[0]_20s\n",
            "[MoviePy] Writing audio in /content/drive/MyDrive/dataset/temp.wav\n"
          ]
        },
        {
          "output_type": "stream",
          "name": "stderr",
          "text": [
            "100%|██████████| 442/442 [00:00<00:00, 1303.60it/s]"
          ]
        },
        {
          "output_type": "stream",
          "name": "stdout",
          "text": [
            "[MoviePy] Done.\n"
          ]
        },
        {
          "output_type": "stream",
          "name": "stderr",
          "text": [
            "\n"
          ]
        },
        {
          "output_type": "stream",
          "name": "stdout",
          "text": [
            "/content/drive/MyDrive/dataset/mix data/S008_Pain_1_[0]_20s\n",
            "[MoviePy] Writing audio in /content/drive/MyDrive/dataset/temp.wav\n"
          ]
        },
        {
          "output_type": "stream",
          "name": "stderr",
          "text": [
            "100%|██████████| 442/442 [00:00<00:00, 1628.04it/s]"
          ]
        },
        {
          "output_type": "stream",
          "name": "stdout",
          "text": [
            "[MoviePy] Done.\n"
          ]
        },
        {
          "output_type": "stream",
          "name": "stderr",
          "text": [
            "\n"
          ]
        },
        {
          "output_type": "stream",
          "name": "stdout",
          "text": [
            "/content/drive/MyDrive/dataset/mix data/S009_Pain_1_[0]_20s\n",
            "[MoviePy] Writing audio in /content/drive/MyDrive/dataset/temp.wav\n"
          ]
        },
        {
          "output_type": "stream",
          "name": "stderr",
          "text": [
            "100%|██████████| 442/442 [00:00<00:00, 1399.50it/s]"
          ]
        },
        {
          "output_type": "stream",
          "name": "stdout",
          "text": [
            "[MoviePy] Done.\n"
          ]
        },
        {
          "output_type": "stream",
          "name": "stderr",
          "text": [
            "\n"
          ]
        },
        {
          "output_type": "stream",
          "name": "stdout",
          "text": [
            "/content/drive/MyDrive/dataset/mix data/S006_Pain_1_[0]_20s\n",
            "[MoviePy] Writing audio in /content/drive/MyDrive/dataset/temp.wav\n"
          ]
        },
        {
          "output_type": "stream",
          "name": "stderr",
          "text": [
            "100%|██████████| 442/442 [00:00<00:00, 1498.40it/s]\n"
          ]
        },
        {
          "output_type": "stream",
          "name": "stdout",
          "text": [
            "[MoviePy] Done.\n",
            "torch.Size([4, 8, 1, 224, 224])\n",
            "600\n",
            "Loading S007_Pain_1_[0]_20s.mp4...\n",
            "Pain\n",
            "Loading S008_Pain_1_[0]_20s.mp4...\n",
            "Pain\n",
            "Loading S009_Pain_1_[0]_20s.mp4...\n",
            "Pain\n",
            "Loading S006_Pain_1_[0]_20s.mp4...\n",
            "Pain\n",
            "torch.Size([4, 6, 3, 224, 224])\n",
            "#0  loss:1.1164313554763794\n",
            "#1  loss:1.0357933044433594\n",
            "#2  loss:0.9729952812194824\n",
            "#3  loss:0.8453185558319092\n",
            "#4  loss:0.9326750040054321\n",
            "#5  loss:0.8286975026130676\n",
            "#6  loss:0.8297595977783203\n",
            "#7  loss:0.5927311778068542\n",
            "#8  loss:0.6026987433433533\n",
            "#9  loss:0.49693918228149414\n",
            "#10  loss:0.47386234998703003\n",
            "#11  loss:0.48697468638420105\n",
            "#12  loss:0.42663997411727905\n",
            "#13  loss:0.4235493540763855\n",
            "#14  loss:0.4161764979362488\n",
            "10\n",
            "/content/drive/MyDrive/dataset/mix data/S009_Move_1_[0]_20s\n",
            "[MoviePy] Writing audio in /content/drive/MyDrive/dataset/temp.wav\n"
          ]
        },
        {
          "output_type": "stream",
          "name": "stderr",
          "text": [
            "100%|██████████| 442/442 [00:00<00:00, 535.46it/s]"
          ]
        },
        {
          "output_type": "stream",
          "name": "stdout",
          "text": [
            "[MoviePy] Done.\n"
          ]
        },
        {
          "output_type": "stream",
          "name": "stderr",
          "text": [
            "\n"
          ]
        },
        {
          "output_type": "stream",
          "name": "stdout",
          "text": [
            "/content/drive/MyDrive/dataset/mix data/S009_Rest_1_[1]_20s\n",
            "[MoviePy] Writing audio in /content/drive/MyDrive/dataset/temp.wav\n"
          ]
        },
        {
          "output_type": "stream",
          "name": "stderr",
          "text": [
            "100%|██████████| 442/442 [00:00<00:00, 1393.51it/s]"
          ]
        },
        {
          "output_type": "stream",
          "name": "stdout",
          "text": [
            "[MoviePy] Done.\n"
          ]
        },
        {
          "output_type": "stream",
          "name": "stderr",
          "text": [
            "\n"
          ]
        },
        {
          "output_type": "stream",
          "name": "stdout",
          "text": [
            "/content/drive/MyDrive/dataset/mix data/S009_Rest_3_[0]_20s\n",
            "[MoviePy] Writing audio in /content/drive/MyDrive/dataset/temp.wav\n"
          ]
        },
        {
          "output_type": "stream",
          "name": "stderr",
          "text": [
            "100%|██████████| 442/442 [00:00<00:00, 1620.65it/s]"
          ]
        },
        {
          "output_type": "stream",
          "name": "stdout",
          "text": [
            "[MoviePy] Done.\n"
          ]
        },
        {
          "output_type": "stream",
          "name": "stderr",
          "text": [
            "\n"
          ]
        },
        {
          "output_type": "stream",
          "name": "stdout",
          "text": [
            "/content/drive/MyDrive/dataset/mix data/S010_Friction_1_[0]_20s\n",
            "[MoviePy] Writing audio in /content/drive/MyDrive/dataset/temp.wav\n"
          ]
        },
        {
          "output_type": "stream",
          "name": "stderr",
          "text": [
            "100%|██████████| 442/442 [00:00<00:00, 1563.28it/s]"
          ]
        },
        {
          "output_type": "stream",
          "name": "stdout",
          "text": [
            "[MoviePy] Done.\n"
          ]
        },
        {
          "output_type": "stream",
          "name": "stderr",
          "text": [
            "\n"
          ]
        },
        {
          "output_type": "stream",
          "name": "stdout",
          "text": [
            "torch.Size([4, 8, 1, 224, 224])\n",
            "600\n",
            "Loading S009_Move_1_[0]_20s.mp4...\n",
            "Move\n",
            "Loading S009_Rest_1_[1]_20s.mp4...\n",
            "Rest\n",
            "Loading S009_Rest_3_[0]_20s.mp4...\n",
            "Rest\n",
            "Loading S010_Friction_1_[0]_20s.mp4...\n",
            "Fric\n",
            "torch.Size([4, 6, 3, 224, 224])\n",
            "#0  loss:1.1511452198028564\n",
            "#1  loss:0.8800007104873657\n",
            "#2  loss:1.061805009841919\n",
            "#3  loss:0.9005830883979797\n",
            "#4  loss:0.7755218148231506\n",
            "#5  loss:0.7918651700019836\n",
            "#6  loss:0.6641393899917603\n",
            "#7  loss:0.6105556488037109\n",
            "#8  loss:0.6186174750328064\n",
            "#9  loss:0.5449140667915344\n",
            "#10  loss:0.4837146997451782\n",
            "#11  loss:0.48528432846069336\n",
            "#12  loss:0.45924264192581177\n",
            "#13  loss:0.46868860721588135\n",
            "#14  loss:0.3865523934364319\n",
            "11\n",
            "torch.Size([0])\n",
            "600\n",
            "torch.Size([0])\n"
          ]
        },
        {
          "output_type": "error",
          "ename": "ValueError",
          "evalue": "ignored",
          "traceback": [
            "\u001b[0;31m---------------------------------------------------------------------------\u001b[0m",
            "\u001b[0;31mValueError\u001b[0m                                Traceback (most recent call last)",
            "\u001b[0;32m<ipython-input-7-508f30e691c5>\u001b[0m in \u001b[0;36m<module>\u001b[0;34m()\u001b[0m\n\u001b[1;32m     48\u001b[0m   \u001b[0mlearning_rate\u001b[0m \u001b[0;34m=\u001b[0m \u001b[0;36m1e-4\u001b[0m\u001b[0;34m\u001b[0m\u001b[0;34m\u001b[0m\u001b[0m\n\u001b[1;32m     49\u001b[0m   \u001b[0;32mfor\u001b[0m \u001b[0mt\u001b[0m \u001b[0;32min\u001b[0m \u001b[0mrange\u001b[0m\u001b[0;34m(\u001b[0m\u001b[0;36m15\u001b[0m\u001b[0;34m)\u001b[0m\u001b[0;34m:\u001b[0m\u001b[0;31m#ITERATIONS):\u001b[0m\u001b[0;34m\u001b[0m\u001b[0;34m\u001b[0m\u001b[0m\n\u001b[0;32m---> 50\u001b[0;31m     \u001b[0my_pred\u001b[0m \u001b[0;34m=\u001b[0m \u001b[0mmodel\u001b[0m\u001b[0;34m(\u001b[0m\u001b[0mvidata\u001b[0m \u001b[0;34m,\u001b[0m \u001b[0maudata\u001b[0m\u001b[0;34m)\u001b[0m\u001b[0;31m#.to(device)\u001b[0m\u001b[0;34m\u001b[0m\u001b[0;34m\u001b[0m\u001b[0m\n\u001b[0m\u001b[1;32m     51\u001b[0m \u001b[0;34m\u001b[0m\u001b[0m\n\u001b[1;32m     52\u001b[0m     \u001b[0mloss\u001b[0m \u001b[0;34m=\u001b[0m \u001b[0mloss_fn\u001b[0m\u001b[0;34m(\u001b[0m\u001b[0my_pred\u001b[0m\u001b[0;34m,\u001b[0m \u001b[0mtorch\u001b[0m\u001b[0;34m.\u001b[0m\u001b[0mtensor\u001b[0m\u001b[0;34m(\u001b[0m\u001b[0mlabels\u001b[0m\u001b[0;34m)\u001b[0m\u001b[0;34m)\u001b[0m\u001b[0;34m\u001b[0m\u001b[0;34m\u001b[0m\u001b[0m\n",
            "\u001b[0;32m/usr/local/lib/python3.7/dist-packages/torch/nn/modules/module.py\u001b[0m in \u001b[0;36m_call_impl\u001b[0;34m(self, *input, **kwargs)\u001b[0m\n\u001b[1;32m   1100\u001b[0m         if not (self._backward_hooks or self._forward_hooks or self._forward_pre_hooks or _global_backward_hooks\n\u001b[1;32m   1101\u001b[0m                 or _global_forward_hooks or _global_forward_pre_hooks):\n\u001b[0;32m-> 1102\u001b[0;31m             \u001b[0;32mreturn\u001b[0m \u001b[0mforward_call\u001b[0m\u001b[0;34m(\u001b[0m\u001b[0;34m*\u001b[0m\u001b[0minput\u001b[0m\u001b[0;34m,\u001b[0m \u001b[0;34m**\u001b[0m\u001b[0mkwargs\u001b[0m\u001b[0;34m)\u001b[0m\u001b[0;34m\u001b[0m\u001b[0;34m\u001b[0m\u001b[0m\n\u001b[0m\u001b[1;32m   1103\u001b[0m         \u001b[0;31m# Do not call functions when jit is used\u001b[0m\u001b[0;34m\u001b[0m\u001b[0;34m\u001b[0m\u001b[0;34m\u001b[0m\u001b[0m\n\u001b[1;32m   1104\u001b[0m         \u001b[0mfull_backward_hooks\u001b[0m\u001b[0;34m,\u001b[0m \u001b[0mnon_full_backward_hooks\u001b[0m \u001b[0;34m=\u001b[0m \u001b[0;34m[\u001b[0m\u001b[0;34m]\u001b[0m\u001b[0;34m,\u001b[0m \u001b[0;34m[\u001b[0m\u001b[0;34m]\u001b[0m\u001b[0;34m\u001b[0m\u001b[0;34m\u001b[0m\u001b[0m\n",
            "\u001b[0;32m<ipython-input-6-fc0a0437be6a>\u001b[0m in \u001b[0;36mforward\u001b[0;34m(self, x1, x2)\u001b[0m\n\u001b[1;32m    136\u001b[0m \u001b[0;34m\u001b[0m\u001b[0m\n\u001b[1;32m    137\u001b[0m    \u001b[0;32mdef\u001b[0m \u001b[0mforward\u001b[0m\u001b[0;34m(\u001b[0m\u001b[0mself\u001b[0m\u001b[0;34m,\u001b[0m \u001b[0mx1\u001b[0m\u001b[0;34m,\u001b[0m \u001b[0mx2\u001b[0m\u001b[0;34m)\u001b[0m\u001b[0;34m:\u001b[0m\u001b[0;34m\u001b[0m\u001b[0;34m\u001b[0m\u001b[0m\n\u001b[0;32m--> 138\u001b[0;31m        \u001b[0mx1\u001b[0m \u001b[0;34m=\u001b[0m \u001b[0mself\u001b[0m\u001b[0;34m.\u001b[0m\u001b[0mmodelA\u001b[0m\u001b[0;34m(\u001b[0m\u001b[0mx1\u001b[0m\u001b[0;34m)\u001b[0m\u001b[0;34m\u001b[0m\u001b[0;34m\u001b[0m\u001b[0m\n\u001b[0m\u001b[1;32m    139\u001b[0m        \u001b[0mx2\u001b[0m \u001b[0;34m=\u001b[0m \u001b[0mself\u001b[0m\u001b[0;34m.\u001b[0m\u001b[0mmodelB\u001b[0m\u001b[0;34m(\u001b[0m\u001b[0mx2\u001b[0m\u001b[0;34m)\u001b[0m\u001b[0;34m\u001b[0m\u001b[0;34m\u001b[0m\u001b[0m\n\u001b[1;32m    140\u001b[0m        \u001b[0mx\u001b[0m \u001b[0;34m=\u001b[0m \u001b[0mtorch\u001b[0m\u001b[0;34m.\u001b[0m\u001b[0mcat\u001b[0m\u001b[0;34m(\u001b[0m\u001b[0;34m(\u001b[0m\u001b[0mx1\u001b[0m\u001b[0;34m,\u001b[0m \u001b[0mx2\u001b[0m\u001b[0;34m)\u001b[0m\u001b[0;34m,\u001b[0m \u001b[0mdim\u001b[0m\u001b[0;34m=\u001b[0m\u001b[0;36m1\u001b[0m\u001b[0;34m)\u001b[0m\u001b[0;34m\u001b[0m\u001b[0;34m\u001b[0m\u001b[0m\n",
            "\u001b[0;32m/usr/local/lib/python3.7/dist-packages/torch/nn/modules/module.py\u001b[0m in \u001b[0;36m_call_impl\u001b[0;34m(self, *input, **kwargs)\u001b[0m\n\u001b[1;32m   1100\u001b[0m         if not (self._backward_hooks or self._forward_hooks or self._forward_pre_hooks or _global_backward_hooks\n\u001b[1;32m   1101\u001b[0m                 or _global_forward_hooks or _global_forward_pre_hooks):\n\u001b[0;32m-> 1102\u001b[0;31m             \u001b[0;32mreturn\u001b[0m \u001b[0mforward_call\u001b[0m\u001b[0;34m(\u001b[0m\u001b[0;34m*\u001b[0m\u001b[0minput\u001b[0m\u001b[0;34m,\u001b[0m \u001b[0;34m**\u001b[0m\u001b[0mkwargs\u001b[0m\u001b[0;34m)\u001b[0m\u001b[0;34m\u001b[0m\u001b[0;34m\u001b[0m\u001b[0m\n\u001b[0m\u001b[1;32m   1103\u001b[0m         \u001b[0;31m# Do not call functions when jit is used\u001b[0m\u001b[0;34m\u001b[0m\u001b[0;34m\u001b[0m\u001b[0;34m\u001b[0m\u001b[0m\n\u001b[1;32m   1104\u001b[0m         \u001b[0mfull_backward_hooks\u001b[0m\u001b[0;34m,\u001b[0m \u001b[0mnon_full_backward_hooks\u001b[0m \u001b[0;34m=\u001b[0m \u001b[0;34m[\u001b[0m\u001b[0;34m]\u001b[0m\u001b[0;34m,\u001b[0m \u001b[0;34m[\u001b[0m\u001b[0;34m]\u001b[0m\u001b[0;34m\u001b[0m\u001b[0;34m\u001b[0m\u001b[0m\n",
            "\u001b[0;32m<ipython-input-6-fc0a0437be6a>\u001b[0m in \u001b[0;36mforward\u001b[0;34m(self, video)\u001b[0m\n\u001b[1;32m     43\u001b[0m \u001b[0;34m\u001b[0m\u001b[0m\n\u001b[1;32m     44\u001b[0m    \u001b[0;32mdef\u001b[0m \u001b[0mforward\u001b[0m\u001b[0;34m(\u001b[0m\u001b[0mself\u001b[0m\u001b[0;34m,\u001b[0m \u001b[0mvideo\u001b[0m\u001b[0;34m)\u001b[0m\u001b[0;34m:\u001b[0m\u001b[0;34m\u001b[0m\u001b[0;34m\u001b[0m\u001b[0m\n\u001b[0;32m---> 45\u001b[0;31m        \u001b[0mb\u001b[0m\u001b[0;34m,\u001b[0m \u001b[0mf\u001b[0m\u001b[0;34m,\u001b[0m \u001b[0m_\u001b[0m\u001b[0;34m,\u001b[0m \u001b[0mh\u001b[0m\u001b[0;34m,\u001b[0m \u001b[0mw\u001b[0m\u001b[0;34m,\u001b[0m \u001b[0;34m*\u001b[0m\u001b[0m_\u001b[0m\u001b[0;34m,\u001b[0m \u001b[0mdevice\u001b[0m\u001b[0;34m,\u001b[0m \u001b[0mp\u001b[0m \u001b[0;34m=\u001b[0m \u001b[0;34m*\u001b[0m\u001b[0mvideo\u001b[0m\u001b[0;34m.\u001b[0m\u001b[0mshape\u001b[0m\u001b[0;34m,\u001b[0m \u001b[0mvideo\u001b[0m\u001b[0;34m.\u001b[0m\u001b[0mdevice\u001b[0m\u001b[0;34m,\u001b[0m \u001b[0mself\u001b[0m\u001b[0;34m.\u001b[0m\u001b[0mpatch_size\u001b[0m\u001b[0;34m\u001b[0m\u001b[0;34m\u001b[0m\u001b[0m\n\u001b[0m\u001b[1;32m     46\u001b[0m \u001b[0;34m\u001b[0m\u001b[0m\n\u001b[1;32m     47\u001b[0m        \u001b[0;32massert\u001b[0m \u001b[0mh\u001b[0m \u001b[0;34m%\u001b[0m \u001b[0mp\u001b[0m \u001b[0;34m==\u001b[0m \u001b[0;36m0\u001b[0m \u001b[0;32mand\u001b[0m \u001b[0mw\u001b[0m \u001b[0;34m%\u001b[0m \u001b[0mp\u001b[0m \u001b[0;34m==\u001b[0m \u001b[0;36m0\u001b[0m\u001b[0;34m,\u001b[0m \u001b[0;34mf'height {h} and width {w} of video must be divisible by the patch size {p}'\u001b[0m\u001b[0;34m\u001b[0m\u001b[0;34m\u001b[0m\u001b[0m\n",
            "\u001b[0;31mValueError\u001b[0m: not enough values to unpack (expected at least 7, got 3)"
          ]
        }
      ]
    },
    {
      "cell_type": "markdown",
      "source": [
        "#part 8: "
      ],
      "metadata": {
        "id": "0JFhjFPpWc8F"
      }
    },
    {
      "cell_type": "code",
      "source": [
        "# device = 'cuda'\n",
        "strl =  [46, 36, 46, 40, 74, 82]\n",
        "endl = [50, 40, 50, 44, 78, 86]\n",
        "for i in range(len(strl)):\n",
        "  \n",
        "  PATH = '/content/drive/MyDrive/dataset/mix data/'\n",
        "  start = strl[i]\n",
        "  end = endl[i]\n",
        "  print(i,start,end)\n",
        "  if start - end >4:\n",
        "    continue\n",
        "  audata , audlabel = audioextract(PATH,start,end)\n",
        "  vidata , vidlabel = vidextract(PATH,start,end)\n",
        "  # audata = audata.to(device)\n",
        "  # vidata = vidata.to(device)\n",
        "  if i == 0:\n",
        "    DIM = 224\n",
        "    IMAGE_SIZE = 224\n",
        "    PATCH_SIZE = 16\n",
        "    NUM_CLASSES = 2\n",
        "    NUM_FRAMES = 6\n",
        "    DEPTH = 12\n",
        "    HEADS = 8\n",
        "    DIM_HEAD = 64\n",
        "    ATTN_DROPOUT = 0.1\n",
        "    FF_DROPOUT = 0.1\n",
        "    ITERATIONS = 20\n",
        "    video_arc = TimeSformervid(dim = DIM, image_size = IMAGE_SIZE, patch_size = PATCH_SIZE, num_frames = NUM_FRAMES, num_classes = NUM_CLASSES, depth = DEPTH, heads = HEADS, dim_head = DIM_HEAD, attn_dropout = ATTN_DROPOUT, ff_dropout = FF_DROPOUT)\n",
        "    NUM_FRAMES = 8\n",
        "    audio_arc = TimeSformeraud(dim = DIM, image_size = IMAGE_SIZE, patch_size = PATCH_SIZE, num_frames = NUM_FRAMES, num_classes = NUM_CLASSES, depth = DEPTH, heads = HEADS, dim_head = DIM_HEAD, attn_dropout = ATTN_DROPOUT, ff_dropout = FF_DROPOUT)\n",
        "\n",
        "    comb = nn.Sequential(\n",
        "                nn.LayerNorm(2*DIM),\n",
        "                nn.Linear(2*DIM, 2),\n",
        "                nn.Softmax(dim = 1)\n",
        "            )\n",
        "    model = ParentModel(video_arc, audio_arc, comb)\n",
        "    #load older\n",
        "    \n",
        "    PATH = '/content/drive/MyDrive/dataset/paindata7.pth'\n",
        "    chkpnt = torch.load(PATH)\n",
        "    model.load_state_dict(chkpnt)\n",
        "    print('done')\n",
        "    \n",
        "  # model = model.to(device)\n",
        "\n",
        "  loss_fn = torch.nn.BCELoss()\n",
        "  labels = torch.FloatTensor(vidlabel)#.to(device)#[[0.4, 0.6] for i in range(len(video))]) # Add here your own labels\n",
        "\n",
        "  learning_rate = 1e-4\n",
        "  for t in range(15):#ITERATIONS):\n",
        "    y_pred = model(vidata , audata)#.to(device)\n",
        "\n",
        "    loss = loss_fn(y_pred, torch.tensor(labels))\n",
        "    print(\"#\" + str(t), \" loss:\" + str(loss.item()))\n",
        "    \n",
        "    model.zero_grad()\n",
        "    loss.backward()\n",
        "    with torch.no_grad():\n",
        "        for param in model.parameters():\n",
        "            param -= learning_rate * param.grad\n",
        "  PATH = '/content/drive/MyDrive/dataset/paindata8.pth'\n",
        "  torch.save(model.state_dict(), PATH)"
      ],
      "metadata": {
        "colab": {
          "base_uri": "https://localhost:8080/"
        },
        "id": "GGRd5ahPWi5u",
        "outputId": "7534adfc-86d4-495c-f319-7c52bdf8a00b"
      },
      "execution_count": null,
      "outputs": [
        {
          "output_type": "stream",
          "name": "stdout",
          "text": [
            "0 46 50\n",
            "/content/drive/MyDrive/dataset/mix data/S013_Friction_1_[0]_20s\n",
            "[MoviePy] Writing audio in /content/drive/MyDrive/dataset/temp.wav\n"
          ]
        },
        {
          "output_type": "stream",
          "name": "stderr",
          "text": [
            "100%|██████████| 442/442 [00:00<00:00, 1626.38it/s]"
          ]
        },
        {
          "output_type": "stream",
          "name": "stdout",
          "text": [
            "[MoviePy] Done.\n"
          ]
        },
        {
          "output_type": "stream",
          "name": "stderr",
          "text": [
            "\n"
          ]
        },
        {
          "output_type": "stream",
          "name": "stdout",
          "text": [
            "/content/drive/MyDrive/dataset/mix data/S013_Move_1_[0]_20s\n",
            "[MoviePy] Writing audio in /content/drive/MyDrive/dataset/temp.wav\n"
          ]
        },
        {
          "output_type": "stream",
          "name": "stderr",
          "text": [
            "100%|██████████| 442/442 [00:00<00:00, 1600.84it/s]"
          ]
        },
        {
          "output_type": "stream",
          "name": "stdout",
          "text": [
            "[MoviePy] Done.\n"
          ]
        },
        {
          "output_type": "stream",
          "name": "stderr",
          "text": [
            "\n"
          ]
        },
        {
          "output_type": "stream",
          "name": "stdout",
          "text": [
            "/content/drive/MyDrive/dataset/mix data/S013_Rest_2_[0]_20s\n",
            "[MoviePy] Writing audio in /content/drive/MyDrive/dataset/temp.wav\n"
          ]
        },
        {
          "output_type": "stream",
          "name": "stderr",
          "text": [
            "100%|██████████| 442/442 [00:00<00:00, 935.01it/s] "
          ]
        },
        {
          "output_type": "stream",
          "name": "stdout",
          "text": [
            "[MoviePy] Done.\n"
          ]
        },
        {
          "output_type": "stream",
          "name": "stderr",
          "text": [
            "\n"
          ]
        },
        {
          "output_type": "stream",
          "name": "stdout",
          "text": [
            "/content/drive/MyDrive/dataset/mix data/S001_Pain_1_[0]_20s\n",
            "[MoviePy] Writing audio in /content/drive/MyDrive/dataset/temp.wav\n"
          ]
        },
        {
          "output_type": "stream",
          "name": "stderr",
          "text": [
            "100%|██████████| 442/442 [00:00<00:00, 1160.29it/s]"
          ]
        },
        {
          "output_type": "stream",
          "name": "stdout",
          "text": [
            "[MoviePy] Done.\n"
          ]
        },
        {
          "output_type": "stream",
          "name": "stderr",
          "text": [
            "\n"
          ]
        },
        {
          "output_type": "stream",
          "name": "stdout",
          "text": [
            "torch.Size([4, 8, 1, 224, 224])\n",
            "600\n",
            "Loading S013_Friction_1_[0]_20s.mp4...\n",
            "Fric\n",
            "Loading S013_Move_1_[0]_20s.mp4...\n",
            "Move\n",
            "Loading S013_Rest_2_[0]_20s.mp4...\n",
            "Rest\n",
            "Loading S001_Pain_1_[0]_20s.mp4...\n",
            "Pain\n",
            "torch.Size([4, 6, 3, 224, 224])\n",
            "done\n",
            "#0  loss:0.6052254438400269\n",
            "#1  loss:0.5115361213684082\n",
            "#2  loss:0.5694509744644165\n",
            "#3  loss:0.5857768058776855\n",
            "#4  loss:0.648378849029541\n",
            "#5  loss:0.6444199681282043\n",
            "#6  loss:0.622269868850708\n",
            "#7  loss:0.5331066846847534\n",
            "#8  loss:0.5493900179862976\n",
            "#9  loss:0.5688176155090332\n",
            "#10  loss:0.5169936418533325\n",
            "#11  loss:0.5863999724388123\n",
            "#12  loss:0.6093381643295288\n",
            "#13  loss:0.6036672592163086\n",
            "#14  loss:0.6223360300064087\n",
            "1 36 40\n",
            "/content/drive/MyDrive/dataset/mix data/S010_Rest_1_[0]_20s\n",
            "[MoviePy] Writing audio in /content/drive/MyDrive/dataset/temp.wav\n"
          ]
        },
        {
          "output_type": "stream",
          "name": "stderr",
          "text": [
            "100%|██████████| 442/442 [00:00<00:00, 1552.36it/s]"
          ]
        },
        {
          "output_type": "stream",
          "name": "stdout",
          "text": [
            "[MoviePy] Done.\n"
          ]
        },
        {
          "output_type": "stream",
          "name": "stderr",
          "text": [
            "\n"
          ]
        },
        {
          "output_type": "stream",
          "name": "stdout",
          "text": [
            "/content/drive/MyDrive/dataset/mix data/S010_Rest_2_[0]_20s\n",
            "[MoviePy] Writing audio in /content/drive/MyDrive/dataset/temp.wav\n"
          ]
        },
        {
          "output_type": "stream",
          "name": "stderr",
          "text": [
            "100%|██████████| 442/442 [00:00<00:00, 1572.53it/s]"
          ]
        },
        {
          "output_type": "stream",
          "name": "stdout",
          "text": [
            "[MoviePy] Done.\n"
          ]
        },
        {
          "output_type": "stream",
          "name": "stderr",
          "text": [
            "\n"
          ]
        },
        {
          "output_type": "stream",
          "name": "stdout",
          "text": [
            "/content/drive/MyDrive/dataset/mix data/S011_Friction_1_[0]_20s\n",
            "[MoviePy] Writing audio in /content/drive/MyDrive/dataset/temp.wav\n"
          ]
        },
        {
          "output_type": "stream",
          "name": "stderr",
          "text": [
            "100%|██████████| 442/442 [00:00<00:00, 1673.45it/s]"
          ]
        },
        {
          "output_type": "stream",
          "name": "stdout",
          "text": [
            "[MoviePy] Done.\n"
          ]
        },
        {
          "output_type": "stream",
          "name": "stderr",
          "text": [
            "\n"
          ]
        },
        {
          "output_type": "stream",
          "name": "stdout",
          "text": [
            "/content/drive/MyDrive/dataset/mix data/S011_Rest_1_[1]_20s\n",
            "[MoviePy] Writing audio in /content/drive/MyDrive/dataset/temp.wav\n"
          ]
        },
        {
          "output_type": "stream",
          "name": "stderr",
          "text": [
            "100%|██████████| 442/442 [00:00<00:00, 1816.22it/s]"
          ]
        },
        {
          "output_type": "stream",
          "name": "stdout",
          "text": [
            "[MoviePy] Done.\n"
          ]
        },
        {
          "output_type": "stream",
          "name": "stderr",
          "text": [
            "\n"
          ]
        },
        {
          "output_type": "stream",
          "name": "stdout",
          "text": [
            "torch.Size([4, 8, 1, 224, 224])\n",
            "600\n",
            "Loading S010_Rest_1_[0]_20s.mp4...\n",
            "Rest\n",
            "Loading S010_Rest_2_[0]_20s.mp4...\n",
            "Rest\n",
            "Loading S011_Friction_1_[0]_20s.mp4...\n",
            "Fric\n",
            "Loading S011_Rest_1_[1]_20s.mp4...\n",
            "Rest\n",
            "torch.Size([4, 6, 3, 224, 224])\n",
            "#0  loss:0.2977173328399658\n",
            "#1  loss:0.2878900170326233\n",
            "#2  loss:0.3186424672603607\n",
            "#3  loss:0.28991469740867615\n",
            "#4  loss:0.24682357907295227\n",
            "#5  loss:0.2073172628879547\n",
            "#6  loss:0.24795736372470856\n",
            "#7  loss:0.2717787027359009\n",
            "#8  loss:0.20741164684295654\n",
            "#9  loss:0.2246042788028717\n",
            "#10  loss:0.18924272060394287\n",
            "#11  loss:0.23198798298835754\n",
            "#12  loss:0.1942356526851654\n",
            "#13  loss:0.20433875918388367\n",
            "#14  loss:0.18878832459449768\n",
            "2 46 50\n",
            "/content/drive/MyDrive/dataset/mix data/S013_Friction_1_[0]_20s\n",
            "[MoviePy] Writing audio in /content/drive/MyDrive/dataset/temp.wav\n"
          ]
        },
        {
          "output_type": "stream",
          "name": "stderr",
          "text": [
            "100%|██████████| 442/442 [00:00<00:00, 1469.98it/s]"
          ]
        },
        {
          "output_type": "stream",
          "name": "stdout",
          "text": [
            "[MoviePy] Done.\n"
          ]
        },
        {
          "output_type": "stream",
          "name": "stderr",
          "text": [
            "\n"
          ]
        },
        {
          "output_type": "stream",
          "name": "stdout",
          "text": [
            "/content/drive/MyDrive/dataset/mix data/S013_Move_1_[0]_20s\n",
            "[MoviePy] Writing audio in /content/drive/MyDrive/dataset/temp.wav\n"
          ]
        },
        {
          "output_type": "stream",
          "name": "stderr",
          "text": [
            "100%|██████████| 442/442 [00:00<00:00, 1326.70it/s]"
          ]
        },
        {
          "output_type": "stream",
          "name": "stdout",
          "text": [
            "[MoviePy] Done.\n"
          ]
        },
        {
          "output_type": "stream",
          "name": "stderr",
          "text": [
            "\n"
          ]
        },
        {
          "output_type": "stream",
          "name": "stdout",
          "text": [
            "/content/drive/MyDrive/dataset/mix data/S013_Rest_2_[0]_20s\n",
            "[MoviePy] Writing audio in /content/drive/MyDrive/dataset/temp.wav\n"
          ]
        },
        {
          "output_type": "stream",
          "name": "stderr",
          "text": [
            "100%|██████████| 442/442 [00:00<00:00, 1314.02it/s]"
          ]
        },
        {
          "output_type": "stream",
          "name": "stdout",
          "text": [
            "[MoviePy] Done.\n"
          ]
        },
        {
          "output_type": "stream",
          "name": "stderr",
          "text": [
            "\n"
          ]
        },
        {
          "output_type": "stream",
          "name": "stdout",
          "text": [
            "/content/drive/MyDrive/dataset/mix data/S001_Pain_1_[0]_20s\n",
            "[MoviePy] Writing audio in /content/drive/MyDrive/dataset/temp.wav\n"
          ]
        },
        {
          "output_type": "stream",
          "name": "stderr",
          "text": [
            "100%|██████████| 442/442 [00:00<00:00, 675.23it/s]"
          ]
        },
        {
          "output_type": "stream",
          "name": "stdout",
          "text": [
            "[MoviePy] Done.\n"
          ]
        },
        {
          "output_type": "stream",
          "name": "stderr",
          "text": [
            "\n"
          ]
        },
        {
          "output_type": "stream",
          "name": "stdout",
          "text": [
            "torch.Size([4, 8, 1, 224, 224])\n",
            "600\n",
            "Loading S013_Friction_1_[0]_20s.mp4...\n",
            "Fric\n",
            "Loading S013_Move_1_[0]_20s.mp4...\n",
            "Move\n",
            "Loading S013_Rest_2_[0]_20s.mp4...\n",
            "Rest\n",
            "Loading S001_Pain_1_[0]_20s.mp4...\n",
            "Pain\n",
            "torch.Size([4, 6, 3, 224, 224])\n",
            "#0  loss:0.5881437063217163\n",
            "#1  loss:0.654875636100769\n",
            "#2  loss:0.6708816289901733\n",
            "#3  loss:0.6140865683555603\n",
            "#4  loss:0.5628833174705505\n",
            "#5  loss:0.596815288066864\n",
            "#6  loss:0.583641529083252\n",
            "#7  loss:0.6023728847503662\n",
            "#8  loss:0.614042341709137\n",
            "#9  loss:0.6066552400588989\n",
            "#10  loss:0.593854546546936\n",
            "#11  loss:0.5749939680099487\n",
            "#12  loss:0.6504467129707336\n",
            "#13  loss:0.501734733581543\n",
            "#14  loss:0.5338921546936035\n",
            "3 40 44\n",
            "/content/drive/MyDrive/dataset/mix data/S011_Rest_1_[0]_20s\n",
            "[MoviePy] Writing audio in /content/drive/MyDrive/dataset/temp.wav\n"
          ]
        },
        {
          "output_type": "stream",
          "name": "stderr",
          "text": [
            "100%|██████████| 442/442 [00:00<00:00, 1577.02it/s]"
          ]
        },
        {
          "output_type": "stream",
          "name": "stdout",
          "text": [
            "[MoviePy] Done.\n"
          ]
        },
        {
          "output_type": "stream",
          "name": "stderr",
          "text": [
            "\n"
          ]
        },
        {
          "output_type": "stream",
          "name": "stdout",
          "text": [
            "/content/drive/MyDrive/dataset/mix data/S012_Friction_1_[0]_20s\n",
            "[MoviePy] Writing audio in /content/drive/MyDrive/dataset/temp.wav\n"
          ]
        },
        {
          "output_type": "stream",
          "name": "stderr",
          "text": [
            "100%|██████████| 442/442 [00:00<00:00, 1458.81it/s]"
          ]
        },
        {
          "output_type": "stream",
          "name": "stdout",
          "text": [
            "[MoviePy] Done.\n"
          ]
        },
        {
          "output_type": "stream",
          "name": "stderr",
          "text": [
            "\n"
          ]
        },
        {
          "output_type": "stream",
          "name": "stdout",
          "text": [
            "/content/drive/MyDrive/dataset/mix data/S012_Rest_1_[0]_20s\n",
            "[MoviePy] Writing audio in /content/drive/MyDrive/dataset/temp.wav\n"
          ]
        },
        {
          "output_type": "stream",
          "name": "stderr",
          "text": [
            "100%|██████████| 442/442 [00:00<00:00, 1556.89it/s]"
          ]
        },
        {
          "output_type": "stream",
          "name": "stdout",
          "text": [
            "[MoviePy] Done.\n"
          ]
        },
        {
          "output_type": "stream",
          "name": "stderr",
          "text": [
            "\n"
          ]
        },
        {
          "output_type": "stream",
          "name": "stdout",
          "text": [
            "/content/drive/MyDrive/dataset/mix data/S012_Move_1_[1]_20s\n",
            "[MoviePy] Writing audio in /content/drive/MyDrive/dataset/temp.wav\n"
          ]
        },
        {
          "output_type": "stream",
          "name": "stderr",
          "text": [
            "100%|██████████| 442/442 [00:00<00:00, 1482.40it/s]\n"
          ]
        },
        {
          "output_type": "stream",
          "name": "stdout",
          "text": [
            "[MoviePy] Done.\n",
            "torch.Size([4, 8, 1, 224, 224])\n",
            "600\n",
            "Loading S011_Rest_1_[0]_20s.mp4...\n",
            "Rest\n",
            "Loading S012_Friction_1_[0]_20s.mp4...\n",
            "Fric\n",
            "Loading S012_Rest_1_[0]_20s.mp4...\n",
            "Rest\n",
            "Loading S012_Move_1_[1]_20s.mp4...\n",
            "Move\n",
            "torch.Size([4, 6, 3, 224, 224])\n",
            "#0  loss:0.22876425087451935\n",
            "#1  loss:0.23344090580940247\n",
            "#2  loss:0.22538603842258453\n",
            "#3  loss:0.1918269544839859\n",
            "#4  loss:0.17951789498329163\n",
            "#5  loss:0.17857041954994202\n",
            "#6  loss:0.19144685566425323\n",
            "#7  loss:0.18111185729503632\n",
            "#8  loss:0.18880516290664673\n",
            "#9  loss:0.17254848778247833\n",
            "#10  loss:0.19337137043476105\n",
            "#11  loss:0.15289664268493652\n",
            "#12  loss:0.18637800216674805\n",
            "#13  loss:0.15216310322284698\n",
            "#14  loss:0.14347052574157715\n",
            "4 74 78\n",
            "/content/drive/MyDrive/dataset/mix data/S026_Pain_1_[0]_20s\n",
            "[MoviePy] Writing audio in /content/drive/MyDrive/dataset/temp.wav\n"
          ]
        },
        {
          "output_type": "stream",
          "name": "stderr",
          "text": [
            "100%|██████████| 442/442 [00:00<00:00, 1362.56it/s]"
          ]
        },
        {
          "output_type": "stream",
          "name": "stdout",
          "text": [
            "[MoviePy] Done.\n"
          ]
        },
        {
          "output_type": "stream",
          "name": "stderr",
          "text": [
            "\n"
          ]
        },
        {
          "output_type": "stream",
          "name": "stdout",
          "text": [
            "/content/drive/MyDrive/dataset/mix data/S025_Pain_1_[0]_20s\n",
            "[MoviePy] Writing audio in /content/drive/MyDrive/dataset/temp.wav\n"
          ]
        },
        {
          "output_type": "stream",
          "name": "stderr",
          "text": [
            "100%|██████████| 442/442 [00:00<00:00, 1390.66it/s]"
          ]
        },
        {
          "output_type": "stream",
          "name": "stdout",
          "text": [
            "[MoviePy] Done.\n"
          ]
        },
        {
          "output_type": "stream",
          "name": "stderr",
          "text": [
            "\n"
          ]
        },
        {
          "output_type": "stream",
          "name": "stdout",
          "text": [
            "/content/drive/MyDrive/dataset/mix data/S030_Pain_1_[0]_20s\n",
            "[MoviePy] Writing audio in /content/drive/MyDrive/dataset/temp.wav\n"
          ]
        },
        {
          "output_type": "stream",
          "name": "stderr",
          "text": [
            "100%|██████████| 442/442 [00:00<00:00, 1485.28it/s]"
          ]
        },
        {
          "output_type": "stream",
          "name": "stdout",
          "text": [
            "[MoviePy] Done.\n"
          ]
        },
        {
          "output_type": "stream",
          "name": "stderr",
          "text": [
            "\n"
          ]
        },
        {
          "output_type": "stream",
          "name": "stdout",
          "text": [
            "/content/drive/MyDrive/dataset/mix data/S028_Pain_1_[0]_20s\n",
            "[MoviePy] Writing audio in /content/drive/MyDrive/dataset/temp.wav\n"
          ]
        },
        {
          "output_type": "stream",
          "name": "stderr",
          "text": [
            "100%|██████████| 442/442 [00:00<00:00, 1528.71it/s]"
          ]
        },
        {
          "output_type": "stream",
          "name": "stdout",
          "text": [
            "[MoviePy] Done.\n"
          ]
        },
        {
          "output_type": "stream",
          "name": "stderr",
          "text": [
            "\n"
          ]
        },
        {
          "output_type": "stream",
          "name": "stdout",
          "text": [
            "torch.Size([4, 8, 1, 224, 224])\n",
            "600\n",
            "Loading S026_Pain_1_[0]_20s.mp4...\n",
            "Pain\n",
            "Loading S025_Pain_1_[0]_20s.mp4...\n",
            "Pain\n",
            "Loading S030_Pain_1_[0]_20s.mp4...\n",
            "Pain\n",
            "Loading S028_Pain_1_[0]_20s.mp4...\n",
            "Pain\n",
            "torch.Size([4, 6, 3, 224, 224])\n",
            "#0  loss:1.9605357646942139\n",
            "#1  loss:2.027677059173584\n",
            "#2  loss:1.7680516242980957\n",
            "#3  loss:1.5716233253479004\n",
            "#4  loss:1.4561293125152588\n",
            "#5  loss:1.4123764038085938\n",
            "#6  loss:1.157912254333496\n",
            "#7  loss:1.1986372470855713\n",
            "#8  loss:1.0333799123764038\n",
            "#9  loss:0.9572223424911499\n",
            "#10  loss:0.873668372631073\n",
            "#11  loss:0.719885528087616\n",
            "#12  loss:0.7344977855682373\n",
            "#13  loss:0.6696761846542358\n",
            "#14  loss:0.5833574533462524\n",
            "5 82 86\n",
            "/content/drive/MyDrive/dataset/mix data/S035_Pain_1_[0]_20s\n",
            "[MoviePy] Writing audio in /content/drive/MyDrive/dataset/temp.wav\n"
          ]
        },
        {
          "output_type": "stream",
          "name": "stderr",
          "text": [
            "100%|██████████| 442/442 [00:00<00:00, 1286.64it/s]"
          ]
        },
        {
          "output_type": "stream",
          "name": "stdout",
          "text": [
            "[MoviePy] Done.\n"
          ]
        },
        {
          "output_type": "stream",
          "name": "stderr",
          "text": [
            "\n"
          ]
        },
        {
          "output_type": "stream",
          "name": "stdout",
          "text": [
            "/content/drive/MyDrive/dataset/mix data/S036_Pain_1_[0]_20s\n",
            "[MoviePy] Writing audio in /content/drive/MyDrive/dataset/temp.wav\n"
          ]
        },
        {
          "output_type": "stream",
          "name": "stderr",
          "text": [
            "100%|██████████| 442/442 [00:00<00:00, 1612.49it/s]"
          ]
        },
        {
          "output_type": "stream",
          "name": "stdout",
          "text": [
            "[MoviePy] Done.\n"
          ]
        },
        {
          "output_type": "stream",
          "name": "stderr",
          "text": [
            "\n"
          ]
        },
        {
          "output_type": "stream",
          "name": "stdout",
          "text": [
            "/content/drive/MyDrive/dataset/mix data/S034_Pain_1_[0]_20s\n",
            "[MoviePy] Writing audio in /content/drive/MyDrive/dataset/temp.wav\n"
          ]
        },
        {
          "output_type": "stream",
          "name": "stderr",
          "text": [
            "100%|██████████| 442/442 [00:00<00:00, 1491.63it/s]\n"
          ]
        },
        {
          "output_type": "stream",
          "name": "stdout",
          "text": [
            "[MoviePy] Done.\n",
            "/content/drive/MyDrive/dataset/mix data/S037_Pain_1_[0]_20s\n",
            "[MoviePy] Writing audio in /content/drive/MyDrive/dataset/temp.wav\n"
          ]
        },
        {
          "output_type": "stream",
          "name": "stderr",
          "text": [
            "100%|██████████| 442/442 [00:00<00:00, 1559.87it/s]"
          ]
        },
        {
          "output_type": "stream",
          "name": "stdout",
          "text": [
            "[MoviePy] Done.\n"
          ]
        },
        {
          "output_type": "stream",
          "name": "stderr",
          "text": [
            "\n"
          ]
        },
        {
          "output_type": "stream",
          "name": "stdout",
          "text": [
            "torch.Size([4, 8, 1, 224, 224])\n",
            "600\n",
            "Loading S035_Pain_1_[0]_20s.mp4...\n",
            "Pain\n",
            "Loading S036_Pain_1_[0]_20s.mp4...\n",
            "Pain\n",
            "Loading S034_Pain_1_[0]_20s.mp4...\n",
            "Pain\n",
            "Loading S037_Pain_1_[0]_20s.mp4...\n",
            "Pain\n",
            "torch.Size([4, 6, 3, 224, 224])\n",
            "#0  loss:0.6147356629371643\n",
            "#1  loss:0.6175612211227417\n",
            "#2  loss:0.4831807017326355\n",
            "#3  loss:0.4929247796535492\n",
            "#4  loss:0.41369664669036865\n",
            "#5  loss:0.4469064772129059\n",
            "#6  loss:0.4215494692325592\n",
            "#7  loss:0.32803112268447876\n",
            "#8  loss:0.3767380714416504\n",
            "#9  loss:0.3427108824253082\n",
            "#10  loss:0.3330773711204529\n",
            "#11  loss:0.30270856618881226\n",
            "#12  loss:0.38664478063583374\n",
            "#13  loss:0.26185429096221924\n",
            "#14  loss:0.22948701679706573\n"
          ]
        }
      ]
    },
    {
      "cell_type": "markdown",
      "source": [
        "#eval"
      ],
      "metadata": {
        "id": "svbvARV50DQ4"
      }
    },
    {
      "cell_type": "code",
      "source": [
        "DIM = 224\n",
        "IMAGE_SIZE = 224\n",
        "PATCH_SIZE = 16\n",
        "NUM_CLASSES = 2\n",
        "NUM_FRAMES = 6\n",
        "DEPTH = 12\n",
        "HEADS = 8\n",
        "DIM_HEAD = 64\n",
        "ATTN_DROPOUT = 0.1\n",
        "FF_DROPOUT = 0.1\n",
        "ITERATIONS = 20\n",
        "video_arc = TimeSformervid(dim = DIM, image_size = IMAGE_SIZE, patch_size = PATCH_SIZE, num_frames = NUM_FRAMES, num_classes = NUM_CLASSES, depth = DEPTH, heads = HEADS, dim_head = DIM_HEAD, attn_dropout = ATTN_DROPOUT, ff_dropout = FF_DROPOUT)\n",
        "NUM_FRAMES = 8\n",
        "audio_arc = TimeSformeraud(dim = DIM, image_size = IMAGE_SIZE, patch_size = PATCH_SIZE, num_frames = NUM_FRAMES, num_classes = NUM_CLASSES, depth = DEPTH, heads = HEADS, dim_head = DIM_HEAD, attn_dropout = ATTN_DROPOUT, ff_dropout = FF_DROPOUT)\n",
        "\n",
        "comb = nn.Sequential(\n",
        "            nn.LayerNorm(2*DIM),\n",
        "            nn.Linear(2*DIM, 2),\n",
        "            nn.Softmax(dim = 1)\n",
        "        )\n",
        "model = ParentModel(video_arc, audio_arc, comb)\n",
        "#load older\n",
        "\n",
        "PATH = '/content/drive/MyDrive/dataset/paindata8.pth'\n",
        "chkpnt = torch.load(PATH)\n",
        "model.load_state_dict(chkpnt)\n",
        "print('done')\n",
        "\n",
        "# PATH = '/content/drive/MyDrive/dataset/mix data/'\n",
        "# start = 59\n",
        "# end = 62\n",
        "# audata , audlabel = audioextract(PATH,start,end)\n",
        "# vidata , vidlabel = vidextract(PATH,start,end)\n"
      ],
      "metadata": {
        "colab": {
          "base_uri": "https://localhost:8080/"
        },
        "id": "kPSo8qfbt7bt",
        "outputId": "315eb3b6-c462-4c41-ceb7-3197ca2f0dc1"
      },
      "execution_count": 5,
      "outputs": [
        {
          "output_type": "stream",
          "name": "stdout",
          "text": [
            "done\n"
          ]
        }
      ]
    },
    {
      "cell_type": "code",
      "source": [
        "PATH = '/content/drive/MyDrive/dataset/mix data/'\n",
        "start = 48\n",
        "end = 52\n",
        "audata , audlabel = audioextract(PATH,start,end)\n",
        "vidata , vidlabel = vidextract(PATH,start,end)\n",
        "\n",
        "y_pred = model(vidata , audata)"
      ],
      "metadata": {
        "id": "x5kb9PXe0SKK",
        "colab": {
          "base_uri": "https://localhost:8080/"
        },
        "outputId": "d7244c2d-e9d4-4c02-ffb3-8b0640396cfc"
      },
      "execution_count": 6,
      "outputs": [
        {
          "output_type": "stream",
          "name": "stdout",
          "text": [
            "/content/drive/MyDrive/dataset/mix data/S013_Rest_2_[0]_20s\n",
            "[MoviePy] Writing audio in /content/drive/MyDrive/dataset/temp.wav\n"
          ]
        },
        {
          "output_type": "stream",
          "name": "stderr",
          "text": [
            "100%|██████████| 442/442 [00:00<00:00, 1429.99it/s]"
          ]
        },
        {
          "output_type": "stream",
          "name": "stdout",
          "text": [
            "[MoviePy] Done.\n"
          ]
        },
        {
          "output_type": "stream",
          "name": "stderr",
          "text": [
            "\n"
          ]
        },
        {
          "output_type": "stream",
          "name": "stdout",
          "text": [
            "/content/drive/MyDrive/dataset/mix data/S001_Pain_1_[0]_20s\n",
            "[MoviePy] Writing audio in /content/drive/MyDrive/dataset/temp.wav\n"
          ]
        },
        {
          "output_type": "stream",
          "name": "stderr",
          "text": [
            "100%|██████████| 442/442 [00:00<00:00, 1691.81it/s]"
          ]
        },
        {
          "output_type": "stream",
          "name": "stdout",
          "text": [
            "[MoviePy] Done.\n"
          ]
        },
        {
          "output_type": "stream",
          "name": "stderr",
          "text": [
            "\n"
          ]
        },
        {
          "output_type": "stream",
          "name": "stdout",
          "text": [
            "/content/drive/MyDrive/dataset/mix data/S003_Pain_1_[0]_20s\n",
            "[MoviePy] Writing audio in /content/drive/MyDrive/dataset/temp.wav\n"
          ]
        },
        {
          "output_type": "stream",
          "name": "stderr",
          "text": [
            "100%|██████████| 442/442 [00:00<00:00, 1830.03it/s]"
          ]
        },
        {
          "output_type": "stream",
          "name": "stdout",
          "text": [
            "[MoviePy] Done.\n"
          ]
        },
        {
          "output_type": "stream",
          "name": "stderr",
          "text": [
            "\n"
          ]
        },
        {
          "output_type": "stream",
          "name": "stdout",
          "text": [
            "/content/drive/MyDrive/dataset/mix data/S002_Pain_1_[0]_20s\n",
            "[MoviePy] Writing audio in /content/drive/MyDrive/dataset/temp.wav\n"
          ]
        },
        {
          "output_type": "stream",
          "name": "stderr",
          "text": [
            "100%|██████████| 442/442 [00:00<00:00, 1661.67it/s]"
          ]
        },
        {
          "output_type": "stream",
          "name": "stdout",
          "text": [
            "[MoviePy] Done.\n"
          ]
        },
        {
          "output_type": "stream",
          "name": "stderr",
          "text": [
            "\n"
          ]
        },
        {
          "output_type": "stream",
          "name": "stdout",
          "text": [
            "torch.Size([4, 8, 1, 224, 224])\n",
            "600\n",
            "Loading S013_Rest_2_[0]_20s.mp4...\n",
            "Rest\n",
            "Loading S001_Pain_1_[0]_20s.mp4...\n",
            "Pain\n",
            "Loading S003_Pain_1_[0]_20s.mp4...\n",
            "Pain\n",
            "Loading S002_Pain_1_[0]_20s.mp4...\n",
            "Pain\n",
            "torch.Size([4, 6, 3, 224, 224])\n"
          ]
        }
      ]
    },
    {
      "cell_type": "code",
      "source": [
        "outGT = np.asarray(vidlabel)\n",
        "outPRED = np.asarray(torch.Tensor.detach(y_pred))\n",
        "from sklearn.metrics import *\n",
        "print('F1: {}'.format(f1_score(outGT, outPRED>.5, average=\"samples\")))\n",
        "print('Precision: {}'.format(precision_score(outGT, outPRED>.5, average=\"samples\")))\n",
        "print('Recall: {}'.format(recall_score(outGT, outPRED >.5, average=\"samples\")))\n",
        "print('Accuracy: {}'.format(accuracy_score(outGT, outPRED>.5)))"
      ],
      "metadata": {
        "colab": {
          "base_uri": "https://localhost:8080/"
        },
        "id": "0VG7j5l-0jjn",
        "outputId": "a10504c6-69da-4914-d385-c46cbc79da4b"
      },
      "execution_count": 7,
      "outputs": [
        {
          "output_type": "stream",
          "name": "stdout",
          "text": [
            "F1: 0.75\n",
            "Precision: 0.75\n",
            "Recall: 0.75\n",
            "Accuracy: 0.75\n"
          ]
        }
      ]
    },
    {
      "cell_type": "code",
      "source": [
        "for i in range(len(y_pred)):\n",
        "  print(y_pred[i], vidlabel[i] )"
      ],
      "metadata": {
        "colab": {
          "base_uri": "https://localhost:8080/"
        },
        "id": "u2ev_W6m0jRU",
        "outputId": "0bb129d5-3c1e-44fc-8345-600b70410f6c"
      },
      "execution_count": null,
      "outputs": [
        {
          "output_type": "stream",
          "name": "stdout",
          "text": [
            "tensor([0.8129, 0.1871], grad_fn=<SelectBackward0>) [0, 1]\n",
            "tensor([0.7894, 0.2106], grad_fn=<SelectBackward0>) [0, 1]\n",
            "tensor([0.8565, 0.1435], grad_fn=<SelectBackward0>) [0, 1]\n"
          ]
        }
      ]
    },
    {
      "cell_type": "code",
      "source": [
        "# #Parameters\n",
        "# DIM = 224\n",
        "# IMAGE_SIZE = 224\n",
        "# PATCH_SIZE = 16\n",
        "# NUM_CLASSES = 2\n",
        "# NUM_FRAMES = 2\n",
        "# DEPTH = 12\n",
        "# HEADS = 8\n",
        "# DIM_HEAD = 64\n",
        "# ATTN_DROPOUT = 0.1\n",
        "# FF_DROPOUT = 0.1\n",
        "# ITERATIONS = 20\n",
        "# video_arc = TimeSformervid(dim = DIM, image_size = IMAGE_SIZE, patch_size = PATCH_SIZE, num_frames = NUM_FRAMES, num_classes = NUM_CLASSES, depth = DEPTH, heads = HEADS, dim_head = DIM_HEAD, attn_dropout = ATTN_DROPOUT, ff_dropout = FF_DROPOUT)\n",
        "# NUM_FRAMES = 8\n",
        "# audio_arc = TimeSformeraud(dim = DIM, image_size = IMAGE_SIZE, patch_size = PATCH_SIZE, num_frames = NUM_FRAMES, num_classes = NUM_CLASSES, depth = DEPTH, heads = HEADS, dim_head = DIM_HEAD, attn_dropout = ATTN_DROPOUT, ff_dropout = FF_DROPOUT)\n",
        "\n",
        "# comb = nn.Sequential(\n",
        "#             nn.LayerNorm(2*DIM),\n",
        "#             nn.Linear(2*DIM, 6)\n",
        "#         )\n",
        "# finmodel = ParentModel(video_arc, audio_arc, comb)"
      ],
      "metadata": {
        "id": "sPaYGSGztBID"
      },
      "execution_count": null,
      "outputs": []
    },
    {
      "cell_type": "code",
      "source": [
        "# PATH = '/content/drive/MyDrive/dataset/mix data/'\n",
        "# start = 0\n",
        "# end = 3\n",
        "# audata , audlabel = audioextract(PATH,start,end)\n",
        "# vidata , vidlabel = vidextract(PATH,start,end)\n"
      ],
      "metadata": {
        "colab": {
          "base_uri": "https://localhost:8080/"
        },
        "id": "laMoSJGVtjwR",
        "outputId": "c276b653-50dd-4e6f-8456-5d80ef19c530"
      },
      "execution_count": null,
      "outputs": [
        {
          "output_type": "stream",
          "name": "stdout",
          "text": [
            "/content/drive/MyDrive/dataset/mix data/S001_Friction_1_[0]_20s\n",
            "[MoviePy] Writing audio in /content/drive/MyDrive/dataset/temp.wav\n"
          ]
        },
        {
          "output_type": "stream",
          "name": "stderr",
          "text": [
            "100%|██████████| 442/442 [00:00<00:00, 1467.98it/s]"
          ]
        },
        {
          "output_type": "stream",
          "name": "stdout",
          "text": [
            "[MoviePy] Done.\n"
          ]
        },
        {
          "output_type": "stream",
          "name": "stderr",
          "text": [
            "\n"
          ]
        },
        {
          "output_type": "stream",
          "name": "stdout",
          "text": [
            "/content/drive/MyDrive/dataset/mix data/S001_Rest_1_[0]_20s\n",
            "[MoviePy] Writing audio in /content/drive/MyDrive/dataset/temp.wav\n"
          ]
        },
        {
          "output_type": "stream",
          "name": "stderr",
          "text": [
            "100%|██████████| 442/442 [00:00<00:00, 1505.76it/s]"
          ]
        },
        {
          "output_type": "stream",
          "name": "stdout",
          "text": [
            "[MoviePy] Done.\n"
          ]
        },
        {
          "output_type": "stream",
          "name": "stderr",
          "text": [
            "\n"
          ]
        },
        {
          "output_type": "stream",
          "name": "stdout",
          "text": [
            "/content/drive/MyDrive/dataset/mix data/S001_Rest_2_[0]_20s\n",
            "[MoviePy] Writing audio in /content/drive/MyDrive/dataset/temp.wav\n"
          ]
        },
        {
          "output_type": "stream",
          "name": "stderr",
          "text": [
            "100%|██████████| 442/442 [00:00<00:00, 1571.27it/s]"
          ]
        },
        {
          "output_type": "stream",
          "name": "stdout",
          "text": [
            "[MoviePy] Done.\n"
          ]
        },
        {
          "output_type": "stream",
          "name": "stderr",
          "text": [
            "\n"
          ]
        },
        {
          "output_type": "stream",
          "name": "stdout",
          "text": [
            "torch.Size([3, 8, 1, 224, 224])\n",
            "600\n",
            "Loading S001_Friction_1_[0]_20s.mp4...\n",
            "Fric\n",
            "Loading S001_Rest_1_[0]_20s.mp4...\n",
            "Rest\n",
            "Loading S001_Rest_2_[0]_20s.mp4...\n",
            "Rest\n",
            "torch.Size([3, 6, 3, 224, 224])\n"
          ]
        }
      ]
    },
    {
      "cell_type": "code",
      "source": [
        "# pred = finmodel(vidata, audata)"
      ],
      "metadata": {
        "id": "MrDhxyQwtjaj"
      },
      "execution_count": null,
      "outputs": []
    },
    {
      "cell_type": "code",
      "source": [
        "pred = model(vidata, audata)"
      ],
      "metadata": {
        "colab": {
          "base_uri": "https://localhost:8080/",
          "height": 329
        },
        "id": "A5eAKoJk1FNC",
        "outputId": "1b756e45-f211-4fcf-c393-31365169edba"
      },
      "execution_count": null,
      "outputs": [
        {
          "output_type": "error",
          "ename": "IndexError",
          "evalue": "ignored",
          "traceback": [
            "\u001b[0;31m---------------------------------------------------------------------------\u001b[0m",
            "\u001b[0;31mIndexError\u001b[0m                                Traceback (most recent call last)",
            "\u001b[0;32m<ipython-input-20-4c8a75ccec66>\u001b[0m in \u001b[0;36m<module>\u001b[0;34m()\u001b[0m\n\u001b[0;32m----> 1\u001b[0;31m \u001b[0mpred\u001b[0m \u001b[0;34m=\u001b[0m \u001b[0mmodel\u001b[0m\u001b[0;34m(\u001b[0m\u001b[0mvidata\u001b[0m\u001b[0;34m,\u001b[0m \u001b[0maudata\u001b[0m\u001b[0;34m)\u001b[0m\u001b[0;34m\u001b[0m\u001b[0;34m\u001b[0m\u001b[0m\n\u001b[0m",
            "\u001b[0;32m/usr/local/lib/python3.7/dist-packages/torch/nn/modules/module.py\u001b[0m in \u001b[0;36m_call_impl\u001b[0;34m(self, *input, **kwargs)\u001b[0m\n\u001b[1;32m   1100\u001b[0m         if not (self._backward_hooks or self._forward_hooks or self._forward_pre_hooks or _global_backward_hooks\n\u001b[1;32m   1101\u001b[0m                 or _global_forward_hooks or _global_forward_pre_hooks):\n\u001b[0;32m-> 1102\u001b[0;31m             \u001b[0;32mreturn\u001b[0m \u001b[0mforward_call\u001b[0m\u001b[0;34m(\u001b[0m\u001b[0;34m*\u001b[0m\u001b[0minput\u001b[0m\u001b[0;34m,\u001b[0m \u001b[0;34m**\u001b[0m\u001b[0mkwargs\u001b[0m\u001b[0;34m)\u001b[0m\u001b[0;34m\u001b[0m\u001b[0;34m\u001b[0m\u001b[0m\n\u001b[0m\u001b[1;32m   1103\u001b[0m         \u001b[0;31m# Do not call functions when jit is used\u001b[0m\u001b[0;34m\u001b[0m\u001b[0;34m\u001b[0m\u001b[0;34m\u001b[0m\u001b[0m\n\u001b[1;32m   1104\u001b[0m         \u001b[0mfull_backward_hooks\u001b[0m\u001b[0;34m,\u001b[0m \u001b[0mnon_full_backward_hooks\u001b[0m \u001b[0;34m=\u001b[0m \u001b[0;34m[\u001b[0m\u001b[0;34m]\u001b[0m\u001b[0;34m,\u001b[0m \u001b[0;34m[\u001b[0m\u001b[0;34m]\u001b[0m\u001b[0;34m\u001b[0m\u001b[0;34m\u001b[0m\u001b[0m\n",
            "\u001b[0;32m<ipython-input-7-d384f7e41313>\u001b[0m in \u001b[0;36mforward\u001b[0;34m(self, x1, x2)\u001b[0m\n\u001b[1;32m      7\u001b[0m \u001b[0;34m\u001b[0m\u001b[0m\n\u001b[1;32m      8\u001b[0m     \u001b[0;32mdef\u001b[0m \u001b[0mforward\u001b[0m\u001b[0;34m(\u001b[0m\u001b[0mself\u001b[0m\u001b[0;34m,\u001b[0m \u001b[0mx1\u001b[0m\u001b[0;34m,\u001b[0m \u001b[0mx2\u001b[0m\u001b[0;34m)\u001b[0m\u001b[0;34m:\u001b[0m\u001b[0;34m\u001b[0m\u001b[0;34m\u001b[0m\u001b[0m\n\u001b[0;32m----> 9\u001b[0;31m         \u001b[0mx1\u001b[0m \u001b[0;34m=\u001b[0m \u001b[0mself\u001b[0m\u001b[0;34m.\u001b[0m\u001b[0mmodelA\u001b[0m\u001b[0;34m(\u001b[0m\u001b[0mx1\u001b[0m\u001b[0;34m)\u001b[0m\u001b[0;34m\u001b[0m\u001b[0;34m\u001b[0m\u001b[0m\n\u001b[0m\u001b[1;32m     10\u001b[0m         \u001b[0mx2\u001b[0m \u001b[0;34m=\u001b[0m \u001b[0mself\u001b[0m\u001b[0;34m.\u001b[0m\u001b[0mmodelB\u001b[0m\u001b[0;34m(\u001b[0m\u001b[0mx2\u001b[0m\u001b[0;34m)\u001b[0m\u001b[0;34m\u001b[0m\u001b[0;34m\u001b[0m\u001b[0m\n\u001b[1;32m     11\u001b[0m         \u001b[0mx\u001b[0m \u001b[0;34m=\u001b[0m \u001b[0mtorch\u001b[0m\u001b[0;34m.\u001b[0m\u001b[0mcat\u001b[0m\u001b[0;34m(\u001b[0m\u001b[0;34m(\u001b[0m\u001b[0mx1\u001b[0m\u001b[0;34m,\u001b[0m \u001b[0mx2\u001b[0m\u001b[0;34m)\u001b[0m\u001b[0;34m,\u001b[0m \u001b[0mdim\u001b[0m\u001b[0;34m=\u001b[0m\u001b[0;36m1\u001b[0m\u001b[0;34m)\u001b[0m\u001b[0;34m\u001b[0m\u001b[0;34m\u001b[0m\u001b[0m\n",
            "\u001b[0;32m/usr/local/lib/python3.7/dist-packages/torch/nn/modules/module.py\u001b[0m in \u001b[0;36m_call_impl\u001b[0;34m(self, *input, **kwargs)\u001b[0m\n\u001b[1;32m   1100\u001b[0m         if not (self._backward_hooks or self._forward_hooks or self._forward_pre_hooks or _global_backward_hooks\n\u001b[1;32m   1101\u001b[0m                 or _global_forward_hooks or _global_forward_pre_hooks):\n\u001b[0;32m-> 1102\u001b[0;31m             \u001b[0;32mreturn\u001b[0m \u001b[0mforward_call\u001b[0m\u001b[0;34m(\u001b[0m\u001b[0;34m*\u001b[0m\u001b[0minput\u001b[0m\u001b[0;34m,\u001b[0m \u001b[0;34m**\u001b[0m\u001b[0mkwargs\u001b[0m\u001b[0;34m)\u001b[0m\u001b[0;34m\u001b[0m\u001b[0;34m\u001b[0m\u001b[0m\n\u001b[0m\u001b[1;32m   1103\u001b[0m         \u001b[0;31m# Do not call functions when jit is used\u001b[0m\u001b[0;34m\u001b[0m\u001b[0;34m\u001b[0m\u001b[0;34m\u001b[0m\u001b[0m\n\u001b[1;32m   1104\u001b[0m         \u001b[0mfull_backward_hooks\u001b[0m\u001b[0;34m,\u001b[0m \u001b[0mnon_full_backward_hooks\u001b[0m \u001b[0;34m=\u001b[0m \u001b[0;34m[\u001b[0m\u001b[0;34m]\u001b[0m\u001b[0;34m,\u001b[0m \u001b[0;34m[\u001b[0m\u001b[0;34m]\u001b[0m\u001b[0;34m\u001b[0m\u001b[0;34m\u001b[0m\u001b[0m\n",
            "\u001b[0;32m<ipython-input-5-8a37d597da75>\u001b[0m in \u001b[0;36mforward\u001b[0;34m(self, video)\u001b[0m\n\u001b[1;32m     54\u001b[0m        \u001b[0mcls_token\u001b[0m \u001b[0;34m=\u001b[0m \u001b[0mrepeat\u001b[0m\u001b[0;34m(\u001b[0m\u001b[0mself\u001b[0m\u001b[0;34m.\u001b[0m\u001b[0mcls_token\u001b[0m\u001b[0;34m,\u001b[0m \u001b[0;34m'n d -> b n d'\u001b[0m\u001b[0;34m,\u001b[0m \u001b[0mb\u001b[0m \u001b[0;34m=\u001b[0m \u001b[0mb\u001b[0m\u001b[0;34m)\u001b[0m\u001b[0;34m\u001b[0m\u001b[0;34m\u001b[0m\u001b[0m\n\u001b[1;32m     55\u001b[0m        \u001b[0mx\u001b[0m \u001b[0;34m=\u001b[0m  \u001b[0mtorch\u001b[0m\u001b[0;34m.\u001b[0m\u001b[0mcat\u001b[0m\u001b[0;34m(\u001b[0m\u001b[0;34m(\u001b[0m\u001b[0mcls_token\u001b[0m\u001b[0;34m,\u001b[0m \u001b[0mtokens\u001b[0m\u001b[0;34m)\u001b[0m\u001b[0;34m,\u001b[0m \u001b[0mdim\u001b[0m \u001b[0;34m=\u001b[0m \u001b[0;36m1\u001b[0m\u001b[0;34m)\u001b[0m\u001b[0;34m\u001b[0m\u001b[0;34m\u001b[0m\u001b[0m\n\u001b[0;32m---> 56\u001b[0;31m        \u001b[0mx\u001b[0m \u001b[0;34m+=\u001b[0m \u001b[0mself\u001b[0m\u001b[0;34m.\u001b[0m\u001b[0mpos_emb\u001b[0m\u001b[0;34m(\u001b[0m\u001b[0mtorch\u001b[0m\u001b[0;34m.\u001b[0m\u001b[0marange\u001b[0m\u001b[0;34m(\u001b[0m\u001b[0mx\u001b[0m\u001b[0;34m.\u001b[0m\u001b[0mshape\u001b[0m\u001b[0;34m[\u001b[0m\u001b[0;36m1\u001b[0m\u001b[0;34m]\u001b[0m\u001b[0;34m,\u001b[0m \u001b[0mdevice\u001b[0m \u001b[0;34m=\u001b[0m \u001b[0mdevice\u001b[0m\u001b[0;34m)\u001b[0m\u001b[0;34m)\u001b[0m\u001b[0;34m\u001b[0m\u001b[0;34m\u001b[0m\u001b[0m\n\u001b[0m\u001b[1;32m     57\u001b[0m \u001b[0;34m\u001b[0m\u001b[0m\n\u001b[1;32m     58\u001b[0m        \u001b[0;32mfor\u001b[0m \u001b[0;34m(\u001b[0m\u001b[0mtime_attn\u001b[0m\u001b[0;34m,\u001b[0m \u001b[0mspatial_attn\u001b[0m\u001b[0;34m,\u001b[0m \u001b[0mff\u001b[0m\u001b[0;34m)\u001b[0m \u001b[0;32min\u001b[0m \u001b[0mself\u001b[0m\u001b[0;34m.\u001b[0m\u001b[0mlayers\u001b[0m\u001b[0;34m:\u001b[0m\u001b[0;34m\u001b[0m\u001b[0;34m\u001b[0m\u001b[0m\n",
            "\u001b[0;32m/usr/local/lib/python3.7/dist-packages/torch/nn/modules/module.py\u001b[0m in \u001b[0;36m_call_impl\u001b[0;34m(self, *input, **kwargs)\u001b[0m\n\u001b[1;32m   1100\u001b[0m         if not (self._backward_hooks or self._forward_hooks or self._forward_pre_hooks or _global_backward_hooks\n\u001b[1;32m   1101\u001b[0m                 or _global_forward_hooks or _global_forward_pre_hooks):\n\u001b[0;32m-> 1102\u001b[0;31m             \u001b[0;32mreturn\u001b[0m \u001b[0mforward_call\u001b[0m\u001b[0;34m(\u001b[0m\u001b[0;34m*\u001b[0m\u001b[0minput\u001b[0m\u001b[0;34m,\u001b[0m \u001b[0;34m**\u001b[0m\u001b[0mkwargs\u001b[0m\u001b[0;34m)\u001b[0m\u001b[0;34m\u001b[0m\u001b[0;34m\u001b[0m\u001b[0m\n\u001b[0m\u001b[1;32m   1103\u001b[0m         \u001b[0;31m# Do not call functions when jit is used\u001b[0m\u001b[0;34m\u001b[0m\u001b[0;34m\u001b[0m\u001b[0;34m\u001b[0m\u001b[0m\n\u001b[1;32m   1104\u001b[0m         \u001b[0mfull_backward_hooks\u001b[0m\u001b[0;34m,\u001b[0m \u001b[0mnon_full_backward_hooks\u001b[0m \u001b[0;34m=\u001b[0m \u001b[0;34m[\u001b[0m\u001b[0;34m]\u001b[0m\u001b[0;34m,\u001b[0m \u001b[0;34m[\u001b[0m\u001b[0;34m]\u001b[0m\u001b[0;34m\u001b[0m\u001b[0;34m\u001b[0m\u001b[0m\n",
            "\u001b[0;32m/usr/local/lib/python3.7/dist-packages/torch/nn/modules/sparse.py\u001b[0m in \u001b[0;36mforward\u001b[0;34m(self, input)\u001b[0m\n\u001b[1;32m    158\u001b[0m         return F.embedding(\n\u001b[1;32m    159\u001b[0m             \u001b[0minput\u001b[0m\u001b[0;34m,\u001b[0m \u001b[0mself\u001b[0m\u001b[0;34m.\u001b[0m\u001b[0mweight\u001b[0m\u001b[0;34m,\u001b[0m \u001b[0mself\u001b[0m\u001b[0;34m.\u001b[0m\u001b[0mpadding_idx\u001b[0m\u001b[0;34m,\u001b[0m \u001b[0mself\u001b[0m\u001b[0;34m.\u001b[0m\u001b[0mmax_norm\u001b[0m\u001b[0;34m,\u001b[0m\u001b[0;34m\u001b[0m\u001b[0;34m\u001b[0m\u001b[0m\n\u001b[0;32m--> 160\u001b[0;31m             self.norm_type, self.scale_grad_by_freq, self.sparse)\n\u001b[0m\u001b[1;32m    161\u001b[0m \u001b[0;34m\u001b[0m\u001b[0m\n\u001b[1;32m    162\u001b[0m     \u001b[0;32mdef\u001b[0m \u001b[0mextra_repr\u001b[0m\u001b[0;34m(\u001b[0m\u001b[0mself\u001b[0m\u001b[0;34m)\u001b[0m \u001b[0;34m->\u001b[0m \u001b[0mstr\u001b[0m\u001b[0;34m:\u001b[0m\u001b[0;34m\u001b[0m\u001b[0;34m\u001b[0m\u001b[0m\n",
            "\u001b[0;32m/usr/local/lib/python3.7/dist-packages/torch/nn/functional.py\u001b[0m in \u001b[0;36membedding\u001b[0;34m(input, weight, padding_idx, max_norm, norm_type, scale_grad_by_freq, sparse)\u001b[0m\n\u001b[1;32m   2042\u001b[0m         \u001b[0;31m# remove once script supports set_grad_enabled\u001b[0m\u001b[0;34m\u001b[0m\u001b[0;34m\u001b[0m\u001b[0;34m\u001b[0m\u001b[0m\n\u001b[1;32m   2043\u001b[0m         \u001b[0m_no_grad_embedding_renorm_\u001b[0m\u001b[0;34m(\u001b[0m\u001b[0mweight\u001b[0m\u001b[0;34m,\u001b[0m \u001b[0minput\u001b[0m\u001b[0;34m,\u001b[0m \u001b[0mmax_norm\u001b[0m\u001b[0;34m,\u001b[0m \u001b[0mnorm_type\u001b[0m\u001b[0;34m)\u001b[0m\u001b[0;34m\u001b[0m\u001b[0;34m\u001b[0m\u001b[0m\n\u001b[0;32m-> 2044\u001b[0;31m     \u001b[0;32mreturn\u001b[0m \u001b[0mtorch\u001b[0m\u001b[0;34m.\u001b[0m\u001b[0membedding\u001b[0m\u001b[0;34m(\u001b[0m\u001b[0mweight\u001b[0m\u001b[0;34m,\u001b[0m \u001b[0minput\u001b[0m\u001b[0;34m,\u001b[0m \u001b[0mpadding_idx\u001b[0m\u001b[0;34m,\u001b[0m \u001b[0mscale_grad_by_freq\u001b[0m\u001b[0;34m,\u001b[0m \u001b[0msparse\u001b[0m\u001b[0;34m)\u001b[0m\u001b[0;34m\u001b[0m\u001b[0;34m\u001b[0m\u001b[0m\n\u001b[0m\u001b[1;32m   2045\u001b[0m \u001b[0;34m\u001b[0m\u001b[0m\n\u001b[1;32m   2046\u001b[0m \u001b[0;34m\u001b[0m\u001b[0m\n",
            "\u001b[0;31mIndexError\u001b[0m: index out of range in self"
          ]
        }
      ]
    },
    {
      "cell_type": "code",
      "source": [
        ""
      ],
      "metadata": {
        "id": "O4CtmHo71Fn5"
      },
      "execution_count": null,
      "outputs": []
    }
  ]
}